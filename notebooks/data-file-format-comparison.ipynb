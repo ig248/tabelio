{
 "cells": [
  {
   "cell_type": "code",
   "execution_count": 1,
   "metadata": {},
   "outputs": [],
   "source": [
    "import os\n",
    "import time\n",
    "from functools import partial\n",
    "import numpy as np\n",
    "import pandas as pd\n",
    "\n",
    "import plotly.offline as py\n",
    "import plotly.graph_objs as go\n",
    "import plotly.io"
   ]
  },
  {
   "cell_type": "code",
   "execution_count": 2,
   "metadata": {},
   "outputs": [],
   "source": [
    "def mock_data(rows=1):\n",
    "    data = {\n",
    "        'datetime': pd.date_range(start='2018-01-01', freq='1s', periods=rows),\n",
    "        'a': np.random.randn(rows),\n",
    "        'b': np.random.randn(rows),\n",
    "        'c': np.random.randn(rows),\n",
    "        'd': np.random.randn(rows),\n",
    "        'e': np.random.randn(rows),\n",
    "        'f': np.random.randn(rows)\n",
    "    }\n",
    "    return pd.DataFrame(data)"
   ]
  },
  {
   "cell_type": "markdown",
   "metadata": {},
   "source": [
    "## Define formats"
   ]
  },
  {
   "cell_type": "code",
   "execution_count": 3,
   "metadata": {},
   "outputs": [],
   "source": [
    "def hdf_writer(format='fixed', compression=None):\n",
    "    def writer(df, filename):\n",
    "        pd.DataFrame.to_hdf(\n",
    "            df, filename, \n",
    "            key='key',\n",
    "            format=format,\n",
    "            complib=compression\n",
    "    )\n",
    "    return writer\n",
    "\n",
    "\n",
    "def parquet_writer(compression=None):\n",
    "    def writer(df, filename):\n",
    "        pd.DataFrame.to_parquet(\n",
    "            df, filename, \n",
    "            compression=compression,\n",
    "    )\n",
    "    return writer\n",
    "\n",
    "\n",
    "formats = [\n",
    "    dict(name='csv', reader=pd.read_csv, writer=pd.DataFrame.to_csv),\n",
    "    dict(name='hdf-fixed', reader=pd.read_hdf, writer=hdf_writer('fixed')),\n",
    "    dict(name='hdf-table', reader=pd.read_hdf, writer=hdf_writer('table')),\n",
    "    dict(name='hdf-fixed-zlib', reader=pd.read_hdf, writer=hdf_writer('fixed', 'zlib')),\n",
    "    dict(name='hdf-table-zlib', reader=pd.read_hdf, writer=hdf_writer('table', 'zlib')),\n",
    "    dict(name='pq', reader=pd.read_parquet, writer=parquet_writer()),\n",
    "    dict(name='pq-snappy', reader=pd.read_parquet, writer=parquet_writer('snappy')),\n",
    "    dict(name='pq-gzip', reader=pd.read_parquet, writer=parquet_writer('gzip')),\n",
    "]"
   ]
  },
  {
   "cell_type": "code",
   "execution_count": 7,
   "metadata": {},
   "outputs": [],
   "source": [
    "def test_format(format, df=None):\n",
    "    name, read, write = format['name'], format['reader'], format['writer']\n",
    "    filename = f'temp.{name}'\n",
    "    try:\n",
    "        os.remove(filename)\n",
    "    except FileNotFoundError:\n",
    "        pass\n",
    "    w_start = time.time()\n",
    "    write(df, filename)\n",
    "    w_end = r_start = time.time()\n",
    "    df2 = read(filename)\n",
    "    r_end = time.time()\n",
    "    size = os.stat(filename).st_size\n",
    "    result = {\n",
    "        'format': name, \n",
    "        'rows': len(df), \n",
    "        'read_s': r_end - r_start,\n",
    "        'write_s': w_end - w_start,\n",
    "        'size_B': float(size),\n",
    "        'size_kB': float(size / 2**10),\n",
    "        'size_MB': float(size / 2**20)\n",
    "    }\n",
    "    return result"
   ]
  },
  {
   "cell_type": "markdown",
   "metadata": {},
   "source": [
    "## Test on a small dataframe, incl. CSV"
   ]
  },
  {
   "cell_type": "code",
   "execution_count": 52,
   "metadata": {},
   "outputs": [],
   "source": [
    "test_df = mock_data(1000000)"
   ]
  },
  {
   "cell_type": "code",
   "execution_count": 53,
   "metadata": {},
   "outputs": [],
   "source": [
    "results = pd.DataFrame.from_records(\n",
    "    test_format(fmt, df=test_df) for fmt in formats\n",
    ")"
   ]
  },
  {
   "cell_type": "code",
   "execution_count": 57,
   "metadata": {},
   "outputs": [
    {
     "data": {
      "text/html": [
       "<div>\n",
       "<style scoped>\n",
       "    .dataframe tbody tr th:only-of-type {\n",
       "        vertical-align: middle;\n",
       "    }\n",
       "\n",
       "    .dataframe tbody tr th {\n",
       "        vertical-align: top;\n",
       "    }\n",
       "\n",
       "    .dataframe thead th {\n",
       "        text-align: right;\n",
       "    }\n",
       "</style>\n",
       "<table border=\"1\" class=\"dataframe\">\n",
       "  <thead>\n",
       "    <tr style=\"text-align: right;\">\n",
       "      <th></th>\n",
       "      <th>format</th>\n",
       "      <th>read_s</th>\n",
       "      <th>rows</th>\n",
       "      <th>size_B</th>\n",
       "      <th>size_MB</th>\n",
       "      <th>size_kB</th>\n",
       "      <th>write_s</th>\n",
       "    </tr>\n",
       "  </thead>\n",
       "  <tbody>\n",
       "    <tr>\n",
       "      <th>0</th>\n",
       "      <td>csv</td>\n",
       "      <td>2.020035</td>\n",
       "      <td>1000000</td>\n",
       "      <td>144674192.0</td>\n",
       "      <td>137.972061</td>\n",
       "      <td>141283.390625</td>\n",
       "      <td>10.800319</td>\n",
       "    </tr>\n",
       "    <tr>\n",
       "      <th>2</th>\n",
       "      <td>hdf-table</td>\n",
       "      <td>0.168685</td>\n",
       "      <td>1000000</td>\n",
       "      <td>64447940.0</td>\n",
       "      <td>61.462345</td>\n",
       "      <td>62937.441406</td>\n",
       "      <td>0.615951</td>\n",
       "    </tr>\n",
       "    <tr>\n",
       "      <th>4</th>\n",
       "      <td>hdf-table-zlib</td>\n",
       "      <td>0.158608</td>\n",
       "      <td>1000000</td>\n",
       "      <td>64447940.0</td>\n",
       "      <td>61.462345</td>\n",
       "      <td>62937.441406</td>\n",
       "      <td>0.605204</td>\n",
       "    </tr>\n",
       "    <tr>\n",
       "      <th>7</th>\n",
       "      <td>pq-gzip</td>\n",
       "      <td>0.084014</td>\n",
       "      <td>1000000</td>\n",
       "      <td>52192737.0</td>\n",
       "      <td>49.774873</td>\n",
       "      <td>50969.469727</td>\n",
       "      <td>2.877942</td>\n",
       "    </tr>\n",
       "    <tr>\n",
       "      <th>6</th>\n",
       "      <td>pq-snappy</td>\n",
       "      <td>0.062976</td>\n",
       "      <td>1000000</td>\n",
       "      <td>59258783.0</td>\n",
       "      <td>56.513579</td>\n",
       "      <td>57869.905273</td>\n",
       "      <td>0.420174</td>\n",
       "    </tr>\n",
       "    <tr>\n",
       "      <th>5</th>\n",
       "      <td>pq</td>\n",
       "      <td>0.039006</td>\n",
       "      <td>1000000</td>\n",
       "      <td>66236886.0</td>\n",
       "      <td>63.168417</td>\n",
       "      <td>64684.458984</td>\n",
       "      <td>0.227964</td>\n",
       "    </tr>\n",
       "    <tr>\n",
       "      <th>3</th>\n",
       "      <td>hdf-fixed-zlib</td>\n",
       "      <td>0.028837</td>\n",
       "      <td>1000000</td>\n",
       "      <td>64009288.0</td>\n",
       "      <td>61.044014</td>\n",
       "      <td>62509.070312</td>\n",
       "      <td>0.050708</td>\n",
       "    </tr>\n",
       "    <tr>\n",
       "      <th>1</th>\n",
       "      <td>hdf-fixed</td>\n",
       "      <td>0.028090</td>\n",
       "      <td>1000000</td>\n",
       "      <td>64009288.0</td>\n",
       "      <td>61.044014</td>\n",
       "      <td>62509.070312</td>\n",
       "      <td>0.072720</td>\n",
       "    </tr>\n",
       "  </tbody>\n",
       "</table>\n",
       "</div>"
      ],
      "text/plain": [
       "           format    read_s     rows       size_B     size_MB        size_kB  \\\n",
       "0             csv  2.020035  1000000  144674192.0  137.972061  141283.390625   \n",
       "2       hdf-table  0.168685  1000000   64447940.0   61.462345   62937.441406   \n",
       "4  hdf-table-zlib  0.158608  1000000   64447940.0   61.462345   62937.441406   \n",
       "7         pq-gzip  0.084014  1000000   52192737.0   49.774873   50969.469727   \n",
       "6       pq-snappy  0.062976  1000000   59258783.0   56.513579   57869.905273   \n",
       "5              pq  0.039006  1000000   66236886.0   63.168417   64684.458984   \n",
       "3  hdf-fixed-zlib  0.028837  1000000   64009288.0   61.044014   62509.070312   \n",
       "1       hdf-fixed  0.028090  1000000   64009288.0   61.044014   62509.070312   \n",
       "\n",
       "     write_s  \n",
       "0  10.800319  \n",
       "2   0.615951  \n",
       "4   0.605204  \n",
       "7   2.877942  \n",
       "6   0.420174  \n",
       "5   0.227964  \n",
       "3   0.050708  \n",
       "1   0.072720  "
      ]
     },
     "execution_count": 57,
     "metadata": {},
     "output_type": "execute_result"
    }
   ],
   "source": [
    "results = results.sort_values(by='read_s', ascending=False)\n",
    "results"
   ]
  },
  {
   "cell_type": "code",
   "execution_count": 58,
   "metadata": {},
   "outputs": [
    {
     "data": {
      "application/vnd.plotly.v1+json": {
       "data": [
        {
         "name": "write time",
         "type": "bar",
         "uid": "8ba58bc6-d980-4de2-b61f-54451c6b3438",
         "x": [
          "csv",
          "hdf-table",
          "hdf-table-zlib",
          "pq-gzip",
          "pq-snappy",
          "pq",
          "hdf-fixed-zlib",
          "hdf-fixed"
         ],
         "y": [
          10.800318956375122,
          0.6159512996673584,
          0.6052038669586182,
          2.877941846847534,
          0.42017412185668945,
          0.22796416282653809,
          0.05070781707763672,
          0.07272028923034668
         ]
        },
        {
         "name": "read time",
         "type": "bar",
         "uid": "10eb3dc7-85bc-46e2-bf0e-ef6d5f3bcf0c",
         "x": [
          "csv",
          "hdf-table",
          "hdf-table-zlib",
          "pq-gzip",
          "pq-snappy",
          "pq",
          "hdf-fixed-zlib",
          "hdf-fixed"
         ],
         "y": [
          2.0200347900390625,
          0.168684720993042,
          0.15860819816589355,
          0.0840141773223877,
          0.06297612190246582,
          0.03900599479675293,
          0.028837203979492188,
          0.02808976173400879
         ]
        }
       ],
       "layout": {
        "autosize": true,
        "template": {
         "data": {
          "bar": [
           {
            "marker": {
             "autocolorscale": false,
             "colorbar": {
              "outlinewidth": 0,
              "ticks": ""
             },
             "colorscale": [
              [
               0,
               "#0508b8"
              ],
              [
               0.0893854748603352,
               "#1910d8"
              ],
              [
               0.1787709497206704,
               "#3c19f0"
              ],
              [
               0.2681564245810056,
               "#6b1cfb"
              ],
              [
               0.3575418994413408,
               "#981cfd"
              ],
              [
               0.44692737430167595,
               "#bf1cfd"
              ],
              [
               0.5363128491620112,
               "#dd2bfd"
              ],
              [
               0.6256983240223464,
               "#f246fe"
              ],
              [
               0.7150837988826816,
               "#fc67fd"
              ],
              [
               0.8044692737430168,
               "#fe88fc"
              ],
              [
               0.8938547486033519,
               "#fea5fd"
              ],
              [
               0.9832402234636871,
               "#febefe"
              ],
              [
               1,
               "#fec3fe"
              ]
             ],
             "line": {
              "autocolorscale": false,
              "colorscale": [
               [
                0,
                "#0508b8"
               ],
               [
                0.0893854748603352,
                "#1910d8"
               ],
               [
                0.1787709497206704,
                "#3c19f0"
               ],
               [
                0.2681564245810056,
                "#6b1cfb"
               ],
               [
                0.3575418994413408,
                "#981cfd"
               ],
               [
                0.44692737430167595,
                "#bf1cfd"
               ],
               [
                0.5363128491620112,
                "#dd2bfd"
               ],
               [
                0.6256983240223464,
                "#f246fe"
               ],
               [
                0.7150837988826816,
                "#fc67fd"
               ],
               [
                0.8044692737430168,
                "#fe88fc"
               ],
               [
                0.8938547486033519,
                "#fea5fd"
               ],
               [
                0.9832402234636871,
                "#febefe"
               ],
               [
                1,
                "#fec3fe"
               ]
              ]
             }
            },
            "type": "bar"
           }
          ],
          "carpet": [
           {
            "aaxis": {
             "endlinecolor": "#A2B1C6",
             "gridcolor": "#506784",
             "linecolor": "#506784",
             "minorgridcolor": "#506784",
             "startlinecolor": "#A2B1C6"
            },
            "baxis": {
             "endlinecolor": "#A2B1C6",
             "gridcolor": "#506784",
             "linecolor": "#506784",
             "minorgridcolor": "#506784",
             "startlinecolor": "#A2B1C6"
            },
            "type": "carpet"
           }
          ],
          "choropleth": [
           {
            "autocolorscale": false,
            "colorbar": {
             "outlinewidth": 0,
             "ticks": ""
            },
            "colorscale": [
             [
              0,
              "#0508b8"
             ],
             [
              0.0893854748603352,
              "#1910d8"
             ],
             [
              0.1787709497206704,
              "#3c19f0"
             ],
             [
              0.2681564245810056,
              "#6b1cfb"
             ],
             [
              0.3575418994413408,
              "#981cfd"
             ],
             [
              0.44692737430167595,
              "#bf1cfd"
             ],
             [
              0.5363128491620112,
              "#dd2bfd"
             ],
             [
              0.6256983240223464,
              "#f246fe"
             ],
             [
              0.7150837988826816,
              "#fc67fd"
             ],
             [
              0.8044692737430168,
              "#fe88fc"
             ],
             [
              0.8938547486033519,
              "#fea5fd"
             ],
             [
              0.9832402234636871,
              "#febefe"
             ],
             [
              1,
              "#fec3fe"
             ]
            ],
            "type": "choropleth"
           }
          ],
          "contour": [
           {
            "autocolorscale": false,
            "colorbar": {
             "outlinewidth": 0,
             "ticks": ""
            },
            "colorscale": [
             [
              0,
              "#0508b8"
             ],
             [
              0.0893854748603352,
              "#1910d8"
             ],
             [
              0.1787709497206704,
              "#3c19f0"
             ],
             [
              0.2681564245810056,
              "#6b1cfb"
             ],
             [
              0.3575418994413408,
              "#981cfd"
             ],
             [
              0.44692737430167595,
              "#bf1cfd"
             ],
             [
              0.5363128491620112,
              "#dd2bfd"
             ],
             [
              0.6256983240223464,
              "#f246fe"
             ],
             [
              0.7150837988826816,
              "#fc67fd"
             ],
             [
              0.8044692737430168,
              "#fe88fc"
             ],
             [
              0.8938547486033519,
              "#fea5fd"
             ],
             [
              0.9832402234636871,
              "#febefe"
             ],
             [
              1,
              "#fec3fe"
             ]
            ],
            "type": "contour"
           }
          ],
          "contourcarpet": [
           {
            "autocolorscale": false,
            "colorbar": {
             "outlinewidth": 0,
             "ticks": ""
            },
            "colorscale": [
             [
              0,
              "#0508b8"
             ],
             [
              0.0893854748603352,
              "#1910d8"
             ],
             [
              0.1787709497206704,
              "#3c19f0"
             ],
             [
              0.2681564245810056,
              "#6b1cfb"
             ],
             [
              0.3575418994413408,
              "#981cfd"
             ],
             [
              0.44692737430167595,
              "#bf1cfd"
             ],
             [
              0.5363128491620112,
              "#dd2bfd"
             ],
             [
              0.6256983240223464,
              "#f246fe"
             ],
             [
              0.7150837988826816,
              "#fc67fd"
             ],
             [
              0.8044692737430168,
              "#fe88fc"
             ],
             [
              0.8938547486033519,
              "#fea5fd"
             ],
             [
              0.9832402234636871,
              "#febefe"
             ],
             [
              1,
              "#fec3fe"
             ]
            ],
            "type": "contourcarpet"
           }
          ],
          "heatmap": [
           {
            "autocolorscale": false,
            "colorbar": {
             "outlinewidth": 0,
             "ticks": ""
            },
            "colorscale": [
             [
              0,
              "#0508b8"
             ],
             [
              0.0893854748603352,
              "#1910d8"
             ],
             [
              0.1787709497206704,
              "#3c19f0"
             ],
             [
              0.2681564245810056,
              "#6b1cfb"
             ],
             [
              0.3575418994413408,
              "#981cfd"
             ],
             [
              0.44692737430167595,
              "#bf1cfd"
             ],
             [
              0.5363128491620112,
              "#dd2bfd"
             ],
             [
              0.6256983240223464,
              "#f246fe"
             ],
             [
              0.7150837988826816,
              "#fc67fd"
             ],
             [
              0.8044692737430168,
              "#fe88fc"
             ],
             [
              0.8938547486033519,
              "#fea5fd"
             ],
             [
              0.9832402234636871,
              "#febefe"
             ],
             [
              1,
              "#fec3fe"
             ]
            ],
            "type": "heatmap"
           }
          ],
          "heatmapgl": [
           {
            "autocolorscale": false,
            "colorbar": {
             "outlinewidth": 0,
             "ticks": ""
            },
            "colorscale": [
             [
              0,
              "#0508b8"
             ],
             [
              0.0893854748603352,
              "#1910d8"
             ],
             [
              0.1787709497206704,
              "#3c19f0"
             ],
             [
              0.2681564245810056,
              "#6b1cfb"
             ],
             [
              0.3575418994413408,
              "#981cfd"
             ],
             [
              0.44692737430167595,
              "#bf1cfd"
             ],
             [
              0.5363128491620112,
              "#dd2bfd"
             ],
             [
              0.6256983240223464,
              "#f246fe"
             ],
             [
              0.7150837988826816,
              "#fc67fd"
             ],
             [
              0.8044692737430168,
              "#fe88fc"
             ],
             [
              0.8938547486033519,
              "#fea5fd"
             ],
             [
              0.9832402234636871,
              "#febefe"
             ],
             [
              1,
              "#fec3fe"
             ]
            ],
            "type": "heatmapgl"
           }
          ],
          "histogram": [
           {
            "marker": {
             "autocolorscale": false,
             "colorbar": {
              "outlinewidth": 0,
              "ticks": ""
             },
             "colorscale": [
              [
               0,
               "#0508b8"
              ],
              [
               0.0893854748603352,
               "#1910d8"
              ],
              [
               0.1787709497206704,
               "#3c19f0"
              ],
              [
               0.2681564245810056,
               "#6b1cfb"
              ],
              [
               0.3575418994413408,
               "#981cfd"
              ],
              [
               0.44692737430167595,
               "#bf1cfd"
              ],
              [
               0.5363128491620112,
               "#dd2bfd"
              ],
              [
               0.6256983240223464,
               "#f246fe"
              ],
              [
               0.7150837988826816,
               "#fc67fd"
              ],
              [
               0.8044692737430168,
               "#fe88fc"
              ],
              [
               0.8938547486033519,
               "#fea5fd"
              ],
              [
               0.9832402234636871,
               "#febefe"
              ],
              [
               1,
               "#fec3fe"
              ]
             ]
            },
            "type": "histogram"
           }
          ],
          "histogram2d": [
           {
            "autocolorscale": false,
            "colorbar": {
             "outlinewidth": 0,
             "ticks": ""
            },
            "colorscale": [
             [
              0,
              "#0508b8"
             ],
             [
              0.0893854748603352,
              "#1910d8"
             ],
             [
              0.1787709497206704,
              "#3c19f0"
             ],
             [
              0.2681564245810056,
              "#6b1cfb"
             ],
             [
              0.3575418994413408,
              "#981cfd"
             ],
             [
              0.44692737430167595,
              "#bf1cfd"
             ],
             [
              0.5363128491620112,
              "#dd2bfd"
             ],
             [
              0.6256983240223464,
              "#f246fe"
             ],
             [
              0.7150837988826816,
              "#fc67fd"
             ],
             [
              0.8044692737430168,
              "#fe88fc"
             ],
             [
              0.8938547486033519,
              "#fea5fd"
             ],
             [
              0.9832402234636871,
              "#febefe"
             ],
             [
              1,
              "#fec3fe"
             ]
            ],
            "type": "histogram2d"
           }
          ],
          "histogram2dcontour": [
           {
            "autocolorscale": false,
            "colorbar": {
             "outlinewidth": 0,
             "ticks": ""
            },
            "colorscale": [
             [
              0,
              "#0508b8"
             ],
             [
              0.0893854748603352,
              "#1910d8"
             ],
             [
              0.1787709497206704,
              "#3c19f0"
             ],
             [
              0.2681564245810056,
              "#6b1cfb"
             ],
             [
              0.3575418994413408,
              "#981cfd"
             ],
             [
              0.44692737430167595,
              "#bf1cfd"
             ],
             [
              0.5363128491620112,
              "#dd2bfd"
             ],
             [
              0.6256983240223464,
              "#f246fe"
             ],
             [
              0.7150837988826816,
              "#fc67fd"
             ],
             [
              0.8044692737430168,
              "#fe88fc"
             ],
             [
              0.8938547486033519,
              "#fea5fd"
             ],
             [
              0.9832402234636871,
              "#febefe"
             ],
             [
              1,
              "#fec3fe"
             ]
            ],
            "type": "histogram2dcontour"
           }
          ],
          "mesh3d": [
           {
            "autocolorscale": false,
            "colorbar": {
             "outlinewidth": 0,
             "ticks": ""
            },
            "colorscale": [
             [
              0,
              "#0508b8"
             ],
             [
              0.0893854748603352,
              "#1910d8"
             ],
             [
              0.1787709497206704,
              "#3c19f0"
             ],
             [
              0.2681564245810056,
              "#6b1cfb"
             ],
             [
              0.3575418994413408,
              "#981cfd"
             ],
             [
              0.44692737430167595,
              "#bf1cfd"
             ],
             [
              0.5363128491620112,
              "#dd2bfd"
             ],
             [
              0.6256983240223464,
              "#f246fe"
             ],
             [
              0.7150837988826816,
              "#fc67fd"
             ],
             [
              0.8044692737430168,
              "#fe88fc"
             ],
             [
              0.8938547486033519,
              "#fea5fd"
             ],
             [
              0.9832402234636871,
              "#febefe"
             ],
             [
              1,
              "#fec3fe"
             ]
            ],
            "type": "mesh3d"
           }
          ],
          "parcoords": [
           {
            "line": {
             "autocolorscale": false,
             "colorbar": {
              "outlinewidth": 0,
              "ticks": ""
             },
             "colorscale": [
              [
               0,
               "#0508b8"
              ],
              [
               0.0893854748603352,
               "#1910d8"
              ],
              [
               0.1787709497206704,
               "#3c19f0"
              ],
              [
               0.2681564245810056,
               "#6b1cfb"
              ],
              [
               0.3575418994413408,
               "#981cfd"
              ],
              [
               0.44692737430167595,
               "#bf1cfd"
              ],
              [
               0.5363128491620112,
               "#dd2bfd"
              ],
              [
               0.6256983240223464,
               "#f246fe"
              ],
              [
               0.7150837988826816,
               "#fc67fd"
              ],
              [
               0.8044692737430168,
               "#fe88fc"
              ],
              [
               0.8938547486033519,
               "#fea5fd"
              ],
              [
               0.9832402234636871,
               "#febefe"
              ],
              [
               1,
               "#fec3fe"
              ]
             ]
            },
            "type": "parcoords"
           }
          ],
          "scatter": [
           {
            "marker": {
             "line": {
              "color": "#283442"
             }
            },
            "type": "scatter"
           }
          ],
          "scatter3d": [
           {
            "line": {
             "autocolorscale": false,
             "colorscale": [
              [
               0,
               "#0508b8"
              ],
              [
               0.0893854748603352,
               "#1910d8"
              ],
              [
               0.1787709497206704,
               "#3c19f0"
              ],
              [
               0.2681564245810056,
               "#6b1cfb"
              ],
              [
               0.3575418994413408,
               "#981cfd"
              ],
              [
               0.44692737430167595,
               "#bf1cfd"
              ],
              [
               0.5363128491620112,
               "#dd2bfd"
              ],
              [
               0.6256983240223464,
               "#f246fe"
              ],
              [
               0.7150837988826816,
               "#fc67fd"
              ],
              [
               0.8044692737430168,
               "#fe88fc"
              ],
              [
               0.8938547486033519,
               "#fea5fd"
              ],
              [
               0.9832402234636871,
               "#febefe"
              ],
              [
               1,
               "#fec3fe"
              ]
             ]
            },
            "marker": {
             "autocolorscale": false,
             "colorbar": {
              "outlinewidth": 0,
              "ticks": ""
             },
             "colorscale": [
              [
               0,
               "#0508b8"
              ],
              [
               0.0893854748603352,
               "#1910d8"
              ],
              [
               0.1787709497206704,
               "#3c19f0"
              ],
              [
               0.2681564245810056,
               "#6b1cfb"
              ],
              [
               0.3575418994413408,
               "#981cfd"
              ],
              [
               0.44692737430167595,
               "#bf1cfd"
              ],
              [
               0.5363128491620112,
               "#dd2bfd"
              ],
              [
               0.6256983240223464,
               "#f246fe"
              ],
              [
               0.7150837988826816,
               "#fc67fd"
              ],
              [
               0.8044692737430168,
               "#fe88fc"
              ],
              [
               0.8938547486033519,
               "#fea5fd"
              ],
              [
               0.9832402234636871,
               "#febefe"
              ],
              [
               1,
               "#fec3fe"
              ]
             ]
            },
            "type": "scatter3d"
           }
          ],
          "scattercarpet": [
           {
            "marker": {
             "autocolorscale": false,
             "colorbar": {
              "outlinewidth": 0,
              "ticks": ""
             },
             "colorscale": [
              [
               0,
               "#0508b8"
              ],
              [
               0.0893854748603352,
               "#1910d8"
              ],
              [
               0.1787709497206704,
               "#3c19f0"
              ],
              [
               0.2681564245810056,
               "#6b1cfb"
              ],
              [
               0.3575418994413408,
               "#981cfd"
              ],
              [
               0.44692737430167595,
               "#bf1cfd"
              ],
              [
               0.5363128491620112,
               "#dd2bfd"
              ],
              [
               0.6256983240223464,
               "#f246fe"
              ],
              [
               0.7150837988826816,
               "#fc67fd"
              ],
              [
               0.8044692737430168,
               "#fe88fc"
              ],
              [
               0.8938547486033519,
               "#fea5fd"
              ],
              [
               0.9832402234636871,
               "#febefe"
              ],
              [
               1,
               "#fec3fe"
              ]
             ]
            },
            "type": "scattercarpet"
           }
          ],
          "scattergeo": [
           {
            "marker": {
             "autocolorscale": false,
             "colorbar": {
              "outlinewidth": 0,
              "ticks": ""
             },
             "colorscale": [
              [
               0,
               "#0508b8"
              ],
              [
               0.0893854748603352,
               "#1910d8"
              ],
              [
               0.1787709497206704,
               "#3c19f0"
              ],
              [
               0.2681564245810056,
               "#6b1cfb"
              ],
              [
               0.3575418994413408,
               "#981cfd"
              ],
              [
               0.44692737430167595,
               "#bf1cfd"
              ],
              [
               0.5363128491620112,
               "#dd2bfd"
              ],
              [
               0.6256983240223464,
               "#f246fe"
              ],
              [
               0.7150837988826816,
               "#fc67fd"
              ],
              [
               0.8044692737430168,
               "#fe88fc"
              ],
              [
               0.8938547486033519,
               "#fea5fd"
              ],
              [
               0.9832402234636871,
               "#febefe"
              ],
              [
               1,
               "#fec3fe"
              ]
             ]
            },
            "type": "scattergeo"
           }
          ],
          "scattergl": [
           {
            "marker": {
             "line": {
              "color": "#283442"
             }
            },
            "type": "scattergl"
           }
          ],
          "scattermapbox": [
           {
            "marker": {
             "autocolorscale": false,
             "colorbar": {
              "outlinewidth": 0,
              "ticks": ""
             },
             "colorscale": [
              [
               0,
               "#0508b8"
              ],
              [
               0.0893854748603352,
               "#1910d8"
              ],
              [
               0.1787709497206704,
               "#3c19f0"
              ],
              [
               0.2681564245810056,
               "#6b1cfb"
              ],
              [
               0.3575418994413408,
               "#981cfd"
              ],
              [
               0.44692737430167595,
               "#bf1cfd"
              ],
              [
               0.5363128491620112,
               "#dd2bfd"
              ],
              [
               0.6256983240223464,
               "#f246fe"
              ],
              [
               0.7150837988826816,
               "#fc67fd"
              ],
              [
               0.8044692737430168,
               "#fe88fc"
              ],
              [
               0.8938547486033519,
               "#fea5fd"
              ],
              [
               0.9832402234636871,
               "#febefe"
              ],
              [
               1,
               "#fec3fe"
              ]
             ]
            },
            "type": "scattermapbox"
           }
          ],
          "scatterpolar": [
           {
            "marker": {
             "autocolorscale": false,
             "colorbar": {
              "outlinewidth": 0,
              "ticks": ""
             },
             "colorscale": [
              [
               0,
               "#0508b8"
              ],
              [
               0.0893854748603352,
               "#1910d8"
              ],
              [
               0.1787709497206704,
               "#3c19f0"
              ],
              [
               0.2681564245810056,
               "#6b1cfb"
              ],
              [
               0.3575418994413408,
               "#981cfd"
              ],
              [
               0.44692737430167595,
               "#bf1cfd"
              ],
              [
               0.5363128491620112,
               "#dd2bfd"
              ],
              [
               0.6256983240223464,
               "#f246fe"
              ],
              [
               0.7150837988826816,
               "#fc67fd"
              ],
              [
               0.8044692737430168,
               "#fe88fc"
              ],
              [
               0.8938547486033519,
               "#fea5fd"
              ],
              [
               0.9832402234636871,
               "#febefe"
              ],
              [
               1,
               "#fec3fe"
              ]
             ]
            },
            "type": "scatterpolar"
           }
          ],
          "scatterpolargl": [
           {
            "marker": {
             "autocolorscale": false,
             "colorbar": {
              "outlinewidth": 0,
              "ticks": ""
             },
             "colorscale": [
              [
               0,
               "#0508b8"
              ],
              [
               0.0893854748603352,
               "#1910d8"
              ],
              [
               0.1787709497206704,
               "#3c19f0"
              ],
              [
               0.2681564245810056,
               "#6b1cfb"
              ],
              [
               0.3575418994413408,
               "#981cfd"
              ],
              [
               0.44692737430167595,
               "#bf1cfd"
              ],
              [
               0.5363128491620112,
               "#dd2bfd"
              ],
              [
               0.6256983240223464,
               "#f246fe"
              ],
              [
               0.7150837988826816,
               "#fc67fd"
              ],
              [
               0.8044692737430168,
               "#fe88fc"
              ],
              [
               0.8938547486033519,
               "#fea5fd"
              ],
              [
               0.9832402234636871,
               "#febefe"
              ],
              [
               1,
               "#fec3fe"
              ]
             ],
             "line": {
              "autocolorscale": false,
              "colorscale": [
               [
                0,
                "#0508b8"
               ],
               [
                0.0893854748603352,
                "#1910d8"
               ],
               [
                0.1787709497206704,
                "#3c19f0"
               ],
               [
                0.2681564245810056,
                "#6b1cfb"
               ],
               [
                0.3575418994413408,
                "#981cfd"
               ],
               [
                0.44692737430167595,
                "#bf1cfd"
               ],
               [
                0.5363128491620112,
                "#dd2bfd"
               ],
               [
                0.6256983240223464,
                "#f246fe"
               ],
               [
                0.7150837988826816,
                "#fc67fd"
               ],
               [
                0.8044692737430168,
                "#fe88fc"
               ],
               [
                0.8938547486033519,
                "#fea5fd"
               ],
               [
                0.9832402234636871,
                "#febefe"
               ],
               [
                1,
                "#fec3fe"
               ]
              ]
             }
            },
            "type": "scatterpolargl"
           }
          ],
          "scatterternary": [
           {
            "marker": {
             "autocolorscale": false,
             "colorbar": {
              "outlinewidth": 0,
              "ticks": ""
             },
             "colorscale": [
              [
               0,
               "#0508b8"
              ],
              [
               0.0893854748603352,
               "#1910d8"
              ],
              [
               0.1787709497206704,
               "#3c19f0"
              ],
              [
               0.2681564245810056,
               "#6b1cfb"
              ],
              [
               0.3575418994413408,
               "#981cfd"
              ],
              [
               0.44692737430167595,
               "#bf1cfd"
              ],
              [
               0.5363128491620112,
               "#dd2bfd"
              ],
              [
               0.6256983240223464,
               "#f246fe"
              ],
              [
               0.7150837988826816,
               "#fc67fd"
              ],
              [
               0.8044692737430168,
               "#fe88fc"
              ],
              [
               0.8938547486033519,
               "#fea5fd"
              ],
              [
               0.9832402234636871,
               "#febefe"
              ],
              [
               1,
               "#fec3fe"
              ]
             ]
            },
            "type": "scatterternary"
           }
          ],
          "surface": [
           {
            "autocolorscale": false,
            "colorbar": {
             "outlinewidth": 0,
             "ticks": ""
            },
            "colorscale": [
             [
              0,
              "#0508b8"
             ],
             [
              0.0893854748603352,
              "#1910d8"
             ],
             [
              0.1787709497206704,
              "#3c19f0"
             ],
             [
              0.2681564245810056,
              "#6b1cfb"
             ],
             [
              0.3575418994413408,
              "#981cfd"
             ],
             [
              0.44692737430167595,
              "#bf1cfd"
             ],
             [
              0.5363128491620112,
              "#dd2bfd"
             ],
             [
              0.6256983240223464,
              "#f246fe"
             ],
             [
              0.7150837988826816,
              "#fc67fd"
             ],
             [
              0.8044692737430168,
              "#fe88fc"
             ],
             [
              0.8938547486033519,
              "#fea5fd"
             ],
             [
              0.9832402234636871,
              "#febefe"
             ],
             [
              1,
              "#fec3fe"
             ]
            ],
            "type": "surface"
           }
          ],
          "table": [
           {
            "cells": {
             "fill": {
              "color": "#506784"
             },
             "line": {
              "color": "rgb(17,17,17)"
             }
            },
            "header": {
             "fill": {
              "color": "#2a3f5f"
             },
             "line": {
              "color": "rgb(17,17,17)"
             }
            },
            "type": "table"
           }
          ]
         },
         "layout": {
          "annotationdefaults": {
           "arrowcolor": "#f2f5fa",
           "arrowhead": 0,
           "arrowwidth": 1
          },
          "colorway": [
           "#636efa",
           "#EF553B",
           "#00cc96",
           "#ab63fa",
           "#19d3f3",
           "#e763fa"
          ],
          "font": {
           "color": "#f2f5fa"
          },
          "geo": {
           "bgcolor": "rgb(17,17,17)",
           "lakecolor": "rgb(17,17,17)",
           "landcolor": "rgb(17,17,17)",
           "showlakes": true,
           "showland": true,
           "subunitcolor": "#506784"
          },
          "paper_bgcolor": "rgb(17,17,17)",
          "plot_bgcolor": "rgb(17,17,17)",
          "polar": {
           "angularaxis": {
            "gridcolor": "#506784",
            "linecolor": "#506784",
            "ticks": ""
           },
           "bgcolor": "rgb(17,17,17)",
           "radialaxis": {
            "gridcolor": "#506784",
            "linecolor": "#506784",
            "ticks": ""
           }
          },
          "scene": {
           "xaxis": {
            "backgroundcolor": "rgb(17,17,17)",
            "gridcolor": "#506784",
            "gridwidth": 2,
            "linecolor": "#506784",
            "showbackground": true,
            "ticks": "",
            "zerolinecolor": "#C8D4E3"
           },
           "yaxis": {
            "backgroundcolor": "rgb(17,17,17)",
            "gridcolor": "#506784",
            "gridwidth": 2,
            "linecolor": "#506784",
            "showbackground": true,
            "ticks": "",
            "zerolinecolor": "#C8D4E3"
           },
           "zaxis": {
            "backgroundcolor": "rgb(17,17,17)",
            "gridcolor": "#506784",
            "gridwidth": 2,
            "linecolor": "#506784",
            "showbackground": true,
            "ticks": "",
            "zerolinecolor": "#C8D4E3"
           }
          },
          "shapedefaults": {
           "fillcolor": "#f2f5fa",
           "line": {
            "width": 0
           },
           "opacity": 0.4
          },
          "sliderdefaults": {
           "bgcolor": "#C8D4E3",
           "bordercolor": "rgb(17,17,17)",
           "borderwidth": 1,
           "tickwidth": 0
          },
          "ternary": {
           "aaxis": {
            "gridcolor": "#506784",
            "linecolor": "#506784",
            "ticks": ""
           },
           "baxis": {
            "gridcolor": "#506784",
            "linecolor": "#506784",
            "ticks": ""
           },
           "bgcolor": "rgb(17,17,17)",
           "caxis": {
            "gridcolor": "#506784",
            "linecolor": "#506784",
            "ticks": ""
           }
          },
          "updatemenudefaults": {
           "bgcolor": "#506784",
           "borderwidth": 0
          },
          "xaxis": {
           "gridcolor": "#283442",
           "linecolor": "#506784",
           "ticks": "",
           "zerolinecolor": "#283442",
           "zerolinewidth": 2
          },
          "yaxis": {
           "gridcolor": "#283442",
           "linecolor": "#506784",
           "ticks": "",
           "zerolinecolor": "#283442",
           "zerolinewidth": 2
          }
         }
        },
        "title": "Read/Write times for 1000000 rows",
        "xaxis": {
         "autorange": true,
         "range": [
          -0.5,
          7.5
         ],
         "type": "category"
        },
        "yaxis": {
         "autorange": true,
         "hoverformat": ".1f",
         "range": [
          0,
          11.36875679618434
         ],
         "title": "time / s",
         "type": "linear"
        }
       }
      },
      "image/png": "[encoded data removed]"
     },
     "metadata": {},
     "output_type": "display_data"
    }
   ],
   "source": [
    "data = [\n",
    "    go.Bar(\n",
    "        x=results['format'],\n",
    "        y=results['write_s'],\n",
    "        name='write time'\n",
    "    ),\n",
    "    go.Bar(\n",
    "        x=results['format'],\n",
    "        y=results['read_s'],\n",
    "        name='read time'   \n",
    "    ),\n",
    "]\n",
    "\n",
    "layout = go.Layout(\n",
    "    title=f'Read/Write times for {len(test_df)} rows',\n",
    "    yaxis = dict(\n",
    "        title='time / s',\n",
    "        hoverformat='.1f'\n",
    "    ),\n",
    "    template='plotly_dark'\n",
    ")\n",
    "\n",
    "fig = go.Figure(data=data, layout=layout)\n",
    "\n",
    "py.iplot(fig)"
   ]
  },
  {
   "cell_type": "code",
   "execution_count": 59,
   "metadata": {},
   "outputs": [],
   "source": [
    "plotly.io.write_json(fig, 'read_write_bar.json')"
   ]
  },
  {
   "cell_type": "code",
   "execution_count": 61,
   "metadata": {},
   "outputs": [
    {
     "data": {
      "application/vnd.plotly.v1+json": {
       "data": [
        {
         "hoverinfo": "text+x+y",
         "mode": "markers",
         "name": "csv",
         "text": [
          "csv"
         ],
         "type": "scatter",
         "uid": "6a641e9d-16c4-44b7-9c06-fcca0b4d8587",
         "x": [
          2.0200347900390625
         ],
         "y": [
          137.97206115722656
         ]
        },
        {
         "hoverinfo": "text+x+y",
         "mode": "markers",
         "name": "hdf-table",
         "text": [
          "hdf-table"
         ],
         "type": "scatter",
         "uid": "af9fc0d9-0e34-4526-aae5-ac76c2f372be",
         "x": [
          0.168684720993042
         ],
         "y": [
          61.462345123291016
         ]
        },
        {
         "hoverinfo": "text+x+y",
         "mode": "markers",
         "name": "hdf-table-zlib",
         "text": [
          "hdf-table-zlib"
         ],
         "type": "scatter",
         "uid": "b8b3afd4-a605-4120-abec-7cce9a2f65d7",
         "x": [
          0.15860819816589355
         ],
         "y": [
          61.462345123291016
         ]
        },
        {
         "hoverinfo": "text+x+y",
         "mode": "markers",
         "name": "pq-gzip",
         "text": [
          "pq-gzip"
         ],
         "type": "scatter",
         "uid": "e8cf864d-62f7-4080-ac9d-a5e432e83743",
         "x": [
          0.0840141773223877
         ],
         "y": [
          49.77487277984619
         ]
        },
        {
         "hoverinfo": "text+x+y",
         "mode": "markers",
         "name": "pq-snappy",
         "text": [
          "pq-snappy"
         ],
         "type": "scatter",
         "uid": "cca163ad-149a-442f-91e9-ca297cb3ae81",
         "x": [
          0.06297612190246582
         ],
         "y": [
          56.51357936859131
         ]
        },
        {
         "hoverinfo": "text+x+y",
         "mode": "markers",
         "name": "pq",
         "text": [
          "pq"
         ],
         "type": "scatter",
         "uid": "ec521972-00e2-43f7-bc22-755245b2c217",
         "x": [
          0.03900599479675293
         ],
         "y": [
          63.16841697692871
         ]
        },
        {
         "hoverinfo": "text+x+y",
         "mode": "markers",
         "name": "hdf-fixed-zlib",
         "text": [
          "hdf-fixed-zlib"
         ],
         "type": "scatter",
         "uid": "40bc15b5-005f-4be0-bea9-feaa711fcdad",
         "x": [
          0.028837203979492188
         ],
         "y": [
          61.04401397705078
         ]
        },
        {
         "hoverinfo": "text+x+y",
         "mode": "markers",
         "name": "hdf-fixed",
         "text": [
          "hdf-fixed"
         ],
         "type": "scatter",
         "uid": "03406728-cb3f-42c0-8b2d-58e0509fa94e",
         "x": [
          0.02808976173400879
         ],
         "y": [
          61.04401397705078
         ]
        }
       ],
       "layout": {
        "autosize": true,
        "hovermode": "closest",
        "template": {
         "data": {
          "bar": [
           {
            "marker": {
             "autocolorscale": false,
             "colorbar": {
              "outlinewidth": 0,
              "ticks": ""
             },
             "colorscale": [
              [
               0,
               "#0508b8"
              ],
              [
               0.0893854748603352,
               "#1910d8"
              ],
              [
               0.1787709497206704,
               "#3c19f0"
              ],
              [
               0.2681564245810056,
               "#6b1cfb"
              ],
              [
               0.3575418994413408,
               "#981cfd"
              ],
              [
               0.44692737430167595,
               "#bf1cfd"
              ],
              [
               0.5363128491620112,
               "#dd2bfd"
              ],
              [
               0.6256983240223464,
               "#f246fe"
              ],
              [
               0.7150837988826816,
               "#fc67fd"
              ],
              [
               0.8044692737430168,
               "#fe88fc"
              ],
              [
               0.8938547486033519,
               "#fea5fd"
              ],
              [
               0.9832402234636871,
               "#febefe"
              ],
              [
               1,
               "#fec3fe"
              ]
             ],
             "line": {
              "autocolorscale": false,
              "colorscale": [
               [
                0,
                "#0508b8"
               ],
               [
                0.0893854748603352,
                "#1910d8"
               ],
               [
                0.1787709497206704,
                "#3c19f0"
               ],
               [
                0.2681564245810056,
                "#6b1cfb"
               ],
               [
                0.3575418994413408,
                "#981cfd"
               ],
               [
                0.44692737430167595,
                "#bf1cfd"
               ],
               [
                0.5363128491620112,
                "#dd2bfd"
               ],
               [
                0.6256983240223464,
                "#f246fe"
               ],
               [
                0.7150837988826816,
                "#fc67fd"
               ],
               [
                0.8044692737430168,
                "#fe88fc"
               ],
               [
                0.8938547486033519,
                "#fea5fd"
               ],
               [
                0.9832402234636871,
                "#febefe"
               ],
               [
                1,
                "#fec3fe"
               ]
              ]
             }
            },
            "type": "bar"
           }
          ],
          "carpet": [
           {
            "aaxis": {
             "endlinecolor": "#A2B1C6",
             "gridcolor": "#506784",
             "linecolor": "#506784",
             "minorgridcolor": "#506784",
             "startlinecolor": "#A2B1C6"
            },
            "baxis": {
             "endlinecolor": "#A2B1C6",
             "gridcolor": "#506784",
             "linecolor": "#506784",
             "minorgridcolor": "#506784",
             "startlinecolor": "#A2B1C6"
            },
            "type": "carpet"
           }
          ],
          "choropleth": [
           {
            "autocolorscale": false,
            "colorbar": {
             "outlinewidth": 0,
             "ticks": ""
            },
            "colorscale": [
             [
              0,
              "#0508b8"
             ],
             [
              0.0893854748603352,
              "#1910d8"
             ],
             [
              0.1787709497206704,
              "#3c19f0"
             ],
             [
              0.2681564245810056,
              "#6b1cfb"
             ],
             [
              0.3575418994413408,
              "#981cfd"
             ],
             [
              0.44692737430167595,
              "#bf1cfd"
             ],
             [
              0.5363128491620112,
              "#dd2bfd"
             ],
             [
              0.6256983240223464,
              "#f246fe"
             ],
             [
              0.7150837988826816,
              "#fc67fd"
             ],
             [
              0.8044692737430168,
              "#fe88fc"
             ],
             [
              0.8938547486033519,
              "#fea5fd"
             ],
             [
              0.9832402234636871,
              "#febefe"
             ],
             [
              1,
              "#fec3fe"
             ]
            ],
            "type": "choropleth"
           }
          ],
          "contour": [
           {
            "autocolorscale": false,
            "colorbar": {
             "outlinewidth": 0,
             "ticks": ""
            },
            "colorscale": [
             [
              0,
              "#0508b8"
             ],
             [
              0.0893854748603352,
              "#1910d8"
             ],
             [
              0.1787709497206704,
              "#3c19f0"
             ],
             [
              0.2681564245810056,
              "#6b1cfb"
             ],
             [
              0.3575418994413408,
              "#981cfd"
             ],
             [
              0.44692737430167595,
              "#bf1cfd"
             ],
             [
              0.5363128491620112,
              "#dd2bfd"
             ],
             [
              0.6256983240223464,
              "#f246fe"
             ],
             [
              0.7150837988826816,
              "#fc67fd"
             ],
             [
              0.8044692737430168,
              "#fe88fc"
             ],
             [
              0.8938547486033519,
              "#fea5fd"
             ],
             [
              0.9832402234636871,
              "#febefe"
             ],
             [
              1,
              "#fec3fe"
             ]
            ],
            "type": "contour"
           }
          ],
          "contourcarpet": [
           {
            "autocolorscale": false,
            "colorbar": {
             "outlinewidth": 0,
             "ticks": ""
            },
            "colorscale": [
             [
              0,
              "#0508b8"
             ],
             [
              0.0893854748603352,
              "#1910d8"
             ],
             [
              0.1787709497206704,
              "#3c19f0"
             ],
             [
              0.2681564245810056,
              "#6b1cfb"
             ],
             [
              0.3575418994413408,
              "#981cfd"
             ],
             [
              0.44692737430167595,
              "#bf1cfd"
             ],
             [
              0.5363128491620112,
              "#dd2bfd"
             ],
             [
              0.6256983240223464,
              "#f246fe"
             ],
             [
              0.7150837988826816,
              "#fc67fd"
             ],
             [
              0.8044692737430168,
              "#fe88fc"
             ],
             [
              0.8938547486033519,
              "#fea5fd"
             ],
             [
              0.9832402234636871,
              "#febefe"
             ],
             [
              1,
              "#fec3fe"
             ]
            ],
            "type": "contourcarpet"
           }
          ],
          "heatmap": [
           {
            "autocolorscale": false,
            "colorbar": {
             "outlinewidth": 0,
             "ticks": ""
            },
            "colorscale": [
             [
              0,
              "#0508b8"
             ],
             [
              0.0893854748603352,
              "#1910d8"
             ],
             [
              0.1787709497206704,
              "#3c19f0"
             ],
             [
              0.2681564245810056,
              "#6b1cfb"
             ],
             [
              0.3575418994413408,
              "#981cfd"
             ],
             [
              0.44692737430167595,
              "#bf1cfd"
             ],
             [
              0.5363128491620112,
              "#dd2bfd"
             ],
             [
              0.6256983240223464,
              "#f246fe"
             ],
             [
              0.7150837988826816,
              "#fc67fd"
             ],
             [
              0.8044692737430168,
              "#fe88fc"
             ],
             [
              0.8938547486033519,
              "#fea5fd"
             ],
             [
              0.9832402234636871,
              "#febefe"
             ],
             [
              1,
              "#fec3fe"
             ]
            ],
            "type": "heatmap"
           }
          ],
          "heatmapgl": [
           {
            "autocolorscale": false,
            "colorbar": {
             "outlinewidth": 0,
             "ticks": ""
            },
            "colorscale": [
             [
              0,
              "#0508b8"
             ],
             [
              0.0893854748603352,
              "#1910d8"
             ],
             [
              0.1787709497206704,
              "#3c19f0"
             ],
             [
              0.2681564245810056,
              "#6b1cfb"
             ],
             [
              0.3575418994413408,
              "#981cfd"
             ],
             [
              0.44692737430167595,
              "#bf1cfd"
             ],
             [
              0.5363128491620112,
              "#dd2bfd"
             ],
             [
              0.6256983240223464,
              "#f246fe"
             ],
             [
              0.7150837988826816,
              "#fc67fd"
             ],
             [
              0.8044692737430168,
              "#fe88fc"
             ],
             [
              0.8938547486033519,
              "#fea5fd"
             ],
             [
              0.9832402234636871,
              "#febefe"
             ],
             [
              1,
              "#fec3fe"
             ]
            ],
            "type": "heatmapgl"
           }
          ],
          "histogram": [
           {
            "marker": {
             "autocolorscale": false,
             "colorbar": {
              "outlinewidth": 0,
              "ticks": ""
             },
             "colorscale": [
              [
               0,
               "#0508b8"
              ],
              [
               0.0893854748603352,
               "#1910d8"
              ],
              [
               0.1787709497206704,
               "#3c19f0"
              ],
              [
               0.2681564245810056,
               "#6b1cfb"
              ],
              [
               0.3575418994413408,
               "#981cfd"
              ],
              [
               0.44692737430167595,
               "#bf1cfd"
              ],
              [
               0.5363128491620112,
               "#dd2bfd"
              ],
              [
               0.6256983240223464,
               "#f246fe"
              ],
              [
               0.7150837988826816,
               "#fc67fd"
              ],
              [
               0.8044692737430168,
               "#fe88fc"
              ],
              [
               0.8938547486033519,
               "#fea5fd"
              ],
              [
               0.9832402234636871,
               "#febefe"
              ],
              [
               1,
               "#fec3fe"
              ]
             ]
            },
            "type": "histogram"
           }
          ],
          "histogram2d": [
           {
            "autocolorscale": false,
            "colorbar": {
             "outlinewidth": 0,
             "ticks": ""
            },
            "colorscale": [
             [
              0,
              "#0508b8"
             ],
             [
              0.0893854748603352,
              "#1910d8"
             ],
             [
              0.1787709497206704,
              "#3c19f0"
             ],
             [
              0.2681564245810056,
              "#6b1cfb"
             ],
             [
              0.3575418994413408,
              "#981cfd"
             ],
             [
              0.44692737430167595,
              "#bf1cfd"
             ],
             [
              0.5363128491620112,
              "#dd2bfd"
             ],
             [
              0.6256983240223464,
              "#f246fe"
             ],
             [
              0.7150837988826816,
              "#fc67fd"
             ],
             [
              0.8044692737430168,
              "#fe88fc"
             ],
             [
              0.8938547486033519,
              "#fea5fd"
             ],
             [
              0.9832402234636871,
              "#febefe"
             ],
             [
              1,
              "#fec3fe"
             ]
            ],
            "type": "histogram2d"
           }
          ],
          "histogram2dcontour": [
           {
            "autocolorscale": false,
            "colorbar": {
             "outlinewidth": 0,
             "ticks": ""
            },
            "colorscale": [
             [
              0,
              "#0508b8"
             ],
             [
              0.0893854748603352,
              "#1910d8"
             ],
             [
              0.1787709497206704,
              "#3c19f0"
             ],
             [
              0.2681564245810056,
              "#6b1cfb"
             ],
             [
              0.3575418994413408,
              "#981cfd"
             ],
             [
              0.44692737430167595,
              "#bf1cfd"
             ],
             [
              0.5363128491620112,
              "#dd2bfd"
             ],
             [
              0.6256983240223464,
              "#f246fe"
             ],
             [
              0.7150837988826816,
              "#fc67fd"
             ],
             [
              0.8044692737430168,
              "#fe88fc"
             ],
             [
              0.8938547486033519,
              "#fea5fd"
             ],
             [
              0.9832402234636871,
              "#febefe"
             ],
             [
              1,
              "#fec3fe"
             ]
            ],
            "type": "histogram2dcontour"
           }
          ],
          "mesh3d": [
           {
            "autocolorscale": false,
            "colorbar": {
             "outlinewidth": 0,
             "ticks": ""
            },
            "colorscale": [
             [
              0,
              "#0508b8"
             ],
             [
              0.0893854748603352,
              "#1910d8"
             ],
             [
              0.1787709497206704,
              "#3c19f0"
             ],
             [
              0.2681564245810056,
              "#6b1cfb"
             ],
             [
              0.3575418994413408,
              "#981cfd"
             ],
             [
              0.44692737430167595,
              "#bf1cfd"
             ],
             [
              0.5363128491620112,
              "#dd2bfd"
             ],
             [
              0.6256983240223464,
              "#f246fe"
             ],
             [
              0.7150837988826816,
              "#fc67fd"
             ],
             [
              0.8044692737430168,
              "#fe88fc"
             ],
             [
              0.8938547486033519,
              "#fea5fd"
             ],
             [
              0.9832402234636871,
              "#febefe"
             ],
             [
              1,
              "#fec3fe"
             ]
            ],
            "type": "mesh3d"
           }
          ],
          "parcoords": [
           {
            "line": {
             "autocolorscale": false,
             "colorbar": {
              "outlinewidth": 0,
              "ticks": ""
             },
             "colorscale": [
              [
               0,
               "#0508b8"
              ],
              [
               0.0893854748603352,
               "#1910d8"
              ],
              [
               0.1787709497206704,
               "#3c19f0"
              ],
              [
               0.2681564245810056,
               "#6b1cfb"
              ],
              [
               0.3575418994413408,
               "#981cfd"
              ],
              [
               0.44692737430167595,
               "#bf1cfd"
              ],
              [
               0.5363128491620112,
               "#dd2bfd"
              ],
              [
               0.6256983240223464,
               "#f246fe"
              ],
              [
               0.7150837988826816,
               "#fc67fd"
              ],
              [
               0.8044692737430168,
               "#fe88fc"
              ],
              [
               0.8938547486033519,
               "#fea5fd"
              ],
              [
               0.9832402234636871,
               "#febefe"
              ],
              [
               1,
               "#fec3fe"
              ]
             ]
            },
            "type": "parcoords"
           }
          ],
          "scatter": [
           {
            "marker": {
             "line": {
              "color": "#283442"
             }
            },
            "type": "scatter"
           }
          ],
          "scatter3d": [
           {
            "line": {
             "autocolorscale": false,
             "colorscale": [
              [
               0,
               "#0508b8"
              ],
              [
               0.0893854748603352,
               "#1910d8"
              ],
              [
               0.1787709497206704,
               "#3c19f0"
              ],
              [
               0.2681564245810056,
               "#6b1cfb"
              ],
              [
               0.3575418994413408,
               "#981cfd"
              ],
              [
               0.44692737430167595,
               "#bf1cfd"
              ],
              [
               0.5363128491620112,
               "#dd2bfd"
              ],
              [
               0.6256983240223464,
               "#f246fe"
              ],
              [
               0.7150837988826816,
               "#fc67fd"
              ],
              [
               0.8044692737430168,
               "#fe88fc"
              ],
              [
               0.8938547486033519,
               "#fea5fd"
              ],
              [
               0.9832402234636871,
               "#febefe"
              ],
              [
               1,
               "#fec3fe"
              ]
             ]
            },
            "marker": {
             "autocolorscale": false,
             "colorbar": {
              "outlinewidth": 0,
              "ticks": ""
             },
             "colorscale": [
              [
               0,
               "#0508b8"
              ],
              [
               0.0893854748603352,
               "#1910d8"
              ],
              [
               0.1787709497206704,
               "#3c19f0"
              ],
              [
               0.2681564245810056,
               "#6b1cfb"
              ],
              [
               0.3575418994413408,
               "#981cfd"
              ],
              [
               0.44692737430167595,
               "#bf1cfd"
              ],
              [
               0.5363128491620112,
               "#dd2bfd"
              ],
              [
               0.6256983240223464,
               "#f246fe"
              ],
              [
               0.7150837988826816,
               "#fc67fd"
              ],
              [
               0.8044692737430168,
               "#fe88fc"
              ],
              [
               0.8938547486033519,
               "#fea5fd"
              ],
              [
               0.9832402234636871,
               "#febefe"
              ],
              [
               1,
               "#fec3fe"
              ]
             ]
            },
            "type": "scatter3d"
           }
          ],
          "scattercarpet": [
           {
            "marker": {
             "autocolorscale": false,
             "colorbar": {
              "outlinewidth": 0,
              "ticks": ""
             },
             "colorscale": [
              [
               0,
               "#0508b8"
              ],
              [
               0.0893854748603352,
               "#1910d8"
              ],
              [
               0.1787709497206704,
               "#3c19f0"
              ],
              [
               0.2681564245810056,
               "#6b1cfb"
              ],
              [
               0.3575418994413408,
               "#981cfd"
              ],
              [
               0.44692737430167595,
               "#bf1cfd"
              ],
              [
               0.5363128491620112,
               "#dd2bfd"
              ],
              [
               0.6256983240223464,
               "#f246fe"
              ],
              [
               0.7150837988826816,
               "#fc67fd"
              ],
              [
               0.8044692737430168,
               "#fe88fc"
              ],
              [
               0.8938547486033519,
               "#fea5fd"
              ],
              [
               0.9832402234636871,
               "#febefe"
              ],
              [
               1,
               "#fec3fe"
              ]
             ]
            },
            "type": "scattercarpet"
           }
          ],
          "scattergeo": [
           {
            "marker": {
             "autocolorscale": false,
             "colorbar": {
              "outlinewidth": 0,
              "ticks": ""
             },
             "colorscale": [
              [
               0,
               "#0508b8"
              ],
              [
               0.0893854748603352,
               "#1910d8"
              ],
              [
               0.1787709497206704,
               "#3c19f0"
              ],
              [
               0.2681564245810056,
               "#6b1cfb"
              ],
              [
               0.3575418994413408,
               "#981cfd"
              ],
              [
               0.44692737430167595,
               "#bf1cfd"
              ],
              [
               0.5363128491620112,
               "#dd2bfd"
              ],
              [
               0.6256983240223464,
               "#f246fe"
              ],
              [
               0.7150837988826816,
               "#fc67fd"
              ],
              [
               0.8044692737430168,
               "#fe88fc"
              ],
              [
               0.8938547486033519,
               "#fea5fd"
              ],
              [
               0.9832402234636871,
               "#febefe"
              ],
              [
               1,
               "#fec3fe"
              ]
             ]
            },
            "type": "scattergeo"
           }
          ],
          "scattergl": [
           {
            "marker": {
             "line": {
              "color": "#283442"
             }
            },
            "type": "scattergl"
           }
          ],
          "scattermapbox": [
           {
            "marker": {
             "autocolorscale": false,
             "colorbar": {
              "outlinewidth": 0,
              "ticks": ""
             },
             "colorscale": [
              [
               0,
               "#0508b8"
              ],
              [
               0.0893854748603352,
               "#1910d8"
              ],
              [
               0.1787709497206704,
               "#3c19f0"
              ],
              [
               0.2681564245810056,
               "#6b1cfb"
              ],
              [
               0.3575418994413408,
               "#981cfd"
              ],
              [
               0.44692737430167595,
               "#bf1cfd"
              ],
              [
               0.5363128491620112,
               "#dd2bfd"
              ],
              [
               0.6256983240223464,
               "#f246fe"
              ],
              [
               0.7150837988826816,
               "#fc67fd"
              ],
              [
               0.8044692737430168,
               "#fe88fc"
              ],
              [
               0.8938547486033519,
               "#fea5fd"
              ],
              [
               0.9832402234636871,
               "#febefe"
              ],
              [
               1,
               "#fec3fe"
              ]
             ]
            },
            "type": "scattermapbox"
           }
          ],
          "scatterpolar": [
           {
            "marker": {
             "autocolorscale": false,
             "colorbar": {
              "outlinewidth": 0,
              "ticks": ""
             },
             "colorscale": [
              [
               0,
               "#0508b8"
              ],
              [
               0.0893854748603352,
               "#1910d8"
              ],
              [
               0.1787709497206704,
               "#3c19f0"
              ],
              [
               0.2681564245810056,
               "#6b1cfb"
              ],
              [
               0.3575418994413408,
               "#981cfd"
              ],
              [
               0.44692737430167595,
               "#bf1cfd"
              ],
              [
               0.5363128491620112,
               "#dd2bfd"
              ],
              [
               0.6256983240223464,
               "#f246fe"
              ],
              [
               0.7150837988826816,
               "#fc67fd"
              ],
              [
               0.8044692737430168,
               "#fe88fc"
              ],
              [
               0.8938547486033519,
               "#fea5fd"
              ],
              [
               0.9832402234636871,
               "#febefe"
              ],
              [
               1,
               "#fec3fe"
              ]
             ]
            },
            "type": "scatterpolar"
           }
          ],
          "scatterpolargl": [
           {
            "marker": {
             "autocolorscale": false,
             "colorbar": {
              "outlinewidth": 0,
              "ticks": ""
             },
             "colorscale": [
              [
               0,
               "#0508b8"
              ],
              [
               0.0893854748603352,
               "#1910d8"
              ],
              [
               0.1787709497206704,
               "#3c19f0"
              ],
              [
               0.2681564245810056,
               "#6b1cfb"
              ],
              [
               0.3575418994413408,
               "#981cfd"
              ],
              [
               0.44692737430167595,
               "#bf1cfd"
              ],
              [
               0.5363128491620112,
               "#dd2bfd"
              ],
              [
               0.6256983240223464,
               "#f246fe"
              ],
              [
               0.7150837988826816,
               "#fc67fd"
              ],
              [
               0.8044692737430168,
               "#fe88fc"
              ],
              [
               0.8938547486033519,
               "#fea5fd"
              ],
              [
               0.9832402234636871,
               "#febefe"
              ],
              [
               1,
               "#fec3fe"
              ]
             ],
             "line": {
              "autocolorscale": false,
              "colorscale": [
               [
                0,
                "#0508b8"
               ],
               [
                0.0893854748603352,
                "#1910d8"
               ],
               [
                0.1787709497206704,
                "#3c19f0"
               ],
               [
                0.2681564245810056,
                "#6b1cfb"
               ],
               [
                0.3575418994413408,
                "#981cfd"
               ],
               [
                0.44692737430167595,
                "#bf1cfd"
               ],
               [
                0.5363128491620112,
                "#dd2bfd"
               ],
               [
                0.6256983240223464,
                "#f246fe"
               ],
               [
                0.7150837988826816,
                "#fc67fd"
               ],
               [
                0.8044692737430168,
                "#fe88fc"
               ],
               [
                0.8938547486033519,
                "#fea5fd"
               ],
               [
                0.9832402234636871,
                "#febefe"
               ],
               [
                1,
                "#fec3fe"
               ]
              ]
             }
            },
            "type": "scatterpolargl"
           }
          ],
          "scatterternary": [
           {
            "marker": {
             "autocolorscale": false,
             "colorbar": {
              "outlinewidth": 0,
              "ticks": ""
             },
             "colorscale": [
              [
               0,
               "#0508b8"
              ],
              [
               0.0893854748603352,
               "#1910d8"
              ],
              [
               0.1787709497206704,
               "#3c19f0"
              ],
              [
               0.2681564245810056,
               "#6b1cfb"
              ],
              [
               0.3575418994413408,
               "#981cfd"
              ],
              [
               0.44692737430167595,
               "#bf1cfd"
              ],
              [
               0.5363128491620112,
               "#dd2bfd"
              ],
              [
               0.6256983240223464,
               "#f246fe"
              ],
              [
               0.7150837988826816,
               "#fc67fd"
              ],
              [
               0.8044692737430168,
               "#fe88fc"
              ],
              [
               0.8938547486033519,
               "#fea5fd"
              ],
              [
               0.9832402234636871,
               "#febefe"
              ],
              [
               1,
               "#fec3fe"
              ]
             ]
            },
            "type": "scatterternary"
           }
          ],
          "surface": [
           {
            "autocolorscale": false,
            "colorbar": {
             "outlinewidth": 0,
             "ticks": ""
            },
            "colorscale": [
             [
              0,
              "#0508b8"
             ],
             [
              0.0893854748603352,
              "#1910d8"
             ],
             [
              0.1787709497206704,
              "#3c19f0"
             ],
             [
              0.2681564245810056,
              "#6b1cfb"
             ],
             [
              0.3575418994413408,
              "#981cfd"
             ],
             [
              0.44692737430167595,
              "#bf1cfd"
             ],
             [
              0.5363128491620112,
              "#dd2bfd"
             ],
             [
              0.6256983240223464,
              "#f246fe"
             ],
             [
              0.7150837988826816,
              "#fc67fd"
             ],
             [
              0.8044692737430168,
              "#fe88fc"
             ],
             [
              0.8938547486033519,
              "#fea5fd"
             ],
             [
              0.9832402234636871,
              "#febefe"
             ],
             [
              1,
              "#fec3fe"
             ]
            ],
            "type": "surface"
           }
          ],
          "table": [
           {
            "cells": {
             "fill": {
              "color": "#506784"
             },
             "line": {
              "color": "rgb(17,17,17)"
             }
            },
            "header": {
             "fill": {
              "color": "#2a3f5f"
             },
             "line": {
              "color": "rgb(17,17,17)"
             }
            },
            "type": "table"
           }
          ]
         },
         "layout": {
          "annotationdefaults": {
           "arrowcolor": "#f2f5fa",
           "arrowhead": 0,
           "arrowwidth": 1
          },
          "colorway": [
           "#636efa",
           "#EF553B",
           "#00cc96",
           "#ab63fa",
           "#19d3f3",
           "#e763fa"
          ],
          "font": {
           "color": "#f2f5fa"
          },
          "geo": {
           "bgcolor": "rgb(17,17,17)",
           "lakecolor": "rgb(17,17,17)",
           "landcolor": "rgb(17,17,17)",
           "showlakes": true,
           "showland": true,
           "subunitcolor": "#506784"
          },
          "paper_bgcolor": "rgb(17,17,17)",
          "plot_bgcolor": "rgb(17,17,17)",
          "polar": {
           "angularaxis": {
            "gridcolor": "#506784",
            "linecolor": "#506784",
            "ticks": ""
           },
           "bgcolor": "rgb(17,17,17)",
           "radialaxis": {
            "gridcolor": "#506784",
            "linecolor": "#506784",
            "ticks": ""
           }
          },
          "scene": {
           "xaxis": {
            "backgroundcolor": "rgb(17,17,17)",
            "gridcolor": "#506784",
            "gridwidth": 2,
            "linecolor": "#506784",
            "showbackground": true,
            "ticks": "",
            "zerolinecolor": "#C8D4E3"
           },
           "yaxis": {
            "backgroundcolor": "rgb(17,17,17)",
            "gridcolor": "#506784",
            "gridwidth": 2,
            "linecolor": "#506784",
            "showbackground": true,
            "ticks": "",
            "zerolinecolor": "#C8D4E3"
           },
           "zaxis": {
            "backgroundcolor": "rgb(17,17,17)",
            "gridcolor": "#506784",
            "gridwidth": 2,
            "linecolor": "#506784",
            "showbackground": true,
            "ticks": "",
            "zerolinecolor": "#C8D4E3"
           }
          },
          "shapedefaults": {
           "fillcolor": "#f2f5fa",
           "line": {
            "width": 0
           },
           "opacity": 0.4
          },
          "sliderdefaults": {
           "bgcolor": "#C8D4E3",
           "bordercolor": "rgb(17,17,17)",
           "borderwidth": 1,
           "tickwidth": 0
          },
          "ternary": {
           "aaxis": {
            "gridcolor": "#506784",
            "linecolor": "#506784",
            "ticks": ""
           },
           "baxis": {
            "gridcolor": "#506784",
            "linecolor": "#506784",
            "ticks": ""
           },
           "bgcolor": "rgb(17,17,17)",
           "caxis": {
            "gridcolor": "#506784",
            "linecolor": "#506784",
            "ticks": ""
           }
          },
          "updatemenudefaults": {
           "bgcolor": "#506784",
           "borderwidth": 0
          },
          "xaxis": {
           "gridcolor": "#283442",
           "linecolor": "#506784",
           "ticks": "",
           "zerolinecolor": "#283442",
           "zerolinewidth": 2
          },
          "yaxis": {
           "gridcolor": "#283442",
           "linecolor": "#506784",
           "ticks": "",
           "zerolinecolor": "#283442",
           "zerolinewidth": 2
          }
         }
        },
        "title": "Read times and file sizes for 1000000 rows",
        "xaxis": {
         "autorange": true,
         "hoverformat": ".1f",
         "range": [
          -0.09139307414721563,
          2.139517625920287
         ],
         "title": "read time / s",
         "type": "linear"
        },
        "yaxis": {
         "autorange": true,
         "hoverformat": ".1f",
         "range": [
          43.31456917258585,
          144.43236476448692
         ],
         "title": "size / MB",
         "type": "linear"
        }
       }
      },
      "image/png": "[encoded data removed]"
     },
     "metadata": {},
     "output_type": "display_data"
    }
   ],
   "source": [
    "data = [\n",
    "    go.Scatter(\n",
    "        x=[result['read_s']],\n",
    "        y=[result['size_MB']],\n",
    "        text=[result['format']],\n",
    "        name=result['format'],\n",
    "        mode='markers',\n",
    "        hoverinfo='text+x+y'\n",
    "    ) for _, result in results.iterrows()\n",
    "]\n",
    "\n",
    "layout = go.Layout(\n",
    "    title=f'Read times and file sizes for {len(test_df)} rows',\n",
    "    xaxis = dict(\n",
    "        title='read time / s',\n",
    "        hoverformat='.1f'\n",
    "    ),\n",
    "    yaxis = dict(\n",
    "        title='size / MB',\n",
    "        hoverformat='.1f'\n",
    "    ),\n",
    "    hovermode='closest',\n",
    "    template='plotly_dark'\n",
    ")\n",
    "\n",
    "fig = go.Figure(data=data, layout=layout)\n",
    "\n",
    "py.iplot(fig)"
   ]
  },
  {
   "cell_type": "code",
   "execution_count": 62,
   "metadata": {},
   "outputs": [],
   "source": [
    "plotly.io.write_json(fig, 'read_size.json')"
   ]
  },
  {
   "cell_type": "markdown",
   "metadata": {},
   "source": [
    "## Test on a larger dataframe, excl. CSV"
   ]
  },
  {
   "cell_type": "code",
   "execution_count": 8,
   "metadata": {},
   "outputs": [],
   "source": [
    "test_df = mock_data(int(10e6))"
   ]
  },
  {
   "cell_type": "code",
   "execution_count": 9,
   "metadata": {},
   "outputs": [],
   "source": [
    "results = pd.DataFrame.from_records(\n",
    "    test_format(fmt, df=test_df) for fmt in formats[1:]\n",
    ")"
   ]
  },
  {
   "cell_type": "code",
   "execution_count": 10,
   "metadata": {},
   "outputs": [
    {
     "data": {
      "text/html": [
       "<div>\n",
       "<style scoped>\n",
       "    .dataframe tbody tr th:only-of-type {\n",
       "        vertical-align: middle;\n",
       "    }\n",
       "\n",
       "    .dataframe tbody tr th {\n",
       "        vertical-align: top;\n",
       "    }\n",
       "\n",
       "    .dataframe thead th {\n",
       "        text-align: right;\n",
       "    }\n",
       "</style>\n",
       "<table border=\"1\" class=\"dataframe\">\n",
       "  <thead>\n",
       "    <tr style=\"text-align: right;\">\n",
       "      <th></th>\n",
       "      <th>format</th>\n",
       "      <th>read_s</th>\n",
       "      <th>rows</th>\n",
       "      <th>size_B</th>\n",
       "      <th>size_MB</th>\n",
       "      <th>size_kB</th>\n",
       "      <th>write_s</th>\n",
       "    </tr>\n",
       "  </thead>\n",
       "  <tbody>\n",
       "    <tr>\n",
       "      <th>1</th>\n",
       "      <td>hdf-table</td>\n",
       "      <td>1.399473</td>\n",
       "      <td>10000000</td>\n",
       "      <td>642093870.0</td>\n",
       "      <td>612.348433</td>\n",
       "      <td>627044.794922</td>\n",
       "      <td>6.034470</td>\n",
       "    </tr>\n",
       "    <tr>\n",
       "      <th>3</th>\n",
       "      <td>hdf-table-zlib</td>\n",
       "      <td>1.353010</td>\n",
       "      <td>10000000</td>\n",
       "      <td>642093870.0</td>\n",
       "      <td>612.348433</td>\n",
       "      <td>627044.794922</td>\n",
       "      <td>5.772946</td>\n",
       "    </tr>\n",
       "    <tr>\n",
       "      <th>6</th>\n",
       "      <td>pq-gzip</td>\n",
       "      <td>0.693314</td>\n",
       "      <td>10000000</td>\n",
       "      <td>503022045.0</td>\n",
       "      <td>479.719205</td>\n",
       "      <td>491232.465820</td>\n",
       "      <td>26.842992</td>\n",
       "    </tr>\n",
       "    <tr>\n",
       "      <th>5</th>\n",
       "      <td>pq-snappy</td>\n",
       "      <td>0.608957</td>\n",
       "      <td>10000000</td>\n",
       "      <td>572487793.0</td>\n",
       "      <td>545.966905</td>\n",
       "      <td>559070.110352</td>\n",
       "      <td>3.053591</td>\n",
       "    </tr>\n",
       "    <tr>\n",
       "      <th>4</th>\n",
       "      <td>pq</td>\n",
       "      <td>0.340507</td>\n",
       "      <td>10000000</td>\n",
       "      <td>642268407.0</td>\n",
       "      <td>612.514884</td>\n",
       "      <td>627215.241211</td>\n",
       "      <td>1.348265</td>\n",
       "    </tr>\n",
       "    <tr>\n",
       "      <th>0</th>\n",
       "      <td>hdf-fixed</td>\n",
       "      <td>0.277852</td>\n",
       "      <td>10000000</td>\n",
       "      <td>640009288.0</td>\n",
       "      <td>610.360420</td>\n",
       "      <td>625009.070312</td>\n",
       "      <td>1.180792</td>\n",
       "    </tr>\n",
       "    <tr>\n",
       "      <th>2</th>\n",
       "      <td>hdf-fixed-zlib</td>\n",
       "      <td>0.276346</td>\n",
       "      <td>10000000</td>\n",
       "      <td>640009288.0</td>\n",
       "      <td>610.360420</td>\n",
       "      <td>625009.070312</td>\n",
       "      <td>0.892142</td>\n",
       "    </tr>\n",
       "  </tbody>\n",
       "</table>\n",
       "</div>"
      ],
      "text/plain": [
       "           format    read_s      rows       size_B     size_MB        size_kB  \\\n",
       "1       hdf-table  1.399473  10000000  642093870.0  612.348433  627044.794922   \n",
       "3  hdf-table-zlib  1.353010  10000000  642093870.0  612.348433  627044.794922   \n",
       "6         pq-gzip  0.693314  10000000  503022045.0  479.719205  491232.465820   \n",
       "5       pq-snappy  0.608957  10000000  572487793.0  545.966905  559070.110352   \n",
       "4              pq  0.340507  10000000  642268407.0  612.514884  627215.241211   \n",
       "0       hdf-fixed  0.277852  10000000  640009288.0  610.360420  625009.070312   \n",
       "2  hdf-fixed-zlib  0.276346  10000000  640009288.0  610.360420  625009.070312   \n",
       "\n",
       "     write_s  \n",
       "1   6.034470  \n",
       "3   5.772946  \n",
       "6  26.842992  \n",
       "5   3.053591  \n",
       "4   1.348265  \n",
       "0   1.180792  \n",
       "2   0.892142  "
      ]
     },
     "execution_count": 10,
     "metadata": {},
     "output_type": "execute_result"
    }
   ],
   "source": [
    "results = results.sort_values(by='read_s', ascending=False)\n",
    "results"
   ]
  },
  {
   "cell_type": "code",
   "execution_count": 11,
   "metadata": {},
   "outputs": [
    {
     "data": {
      "application/vnd.plotly.v1+json": {
       "data": [
        {
         "name": "write time",
         "type": "bar",
         "uid": "ec2b4a17-2892-4bad-b4fb-d38f533c0834",
         "x": [
          "hdf-table",
          "hdf-table-zlib",
          "pq-gzip",
          "pq-snappy",
          "pq",
          "hdf-fixed",
          "hdf-fixed-zlib"
         ],
         "y": [
          6.034470081329346,
          5.772945880889893,
          26.842992305755615,
          3.053591012954712,
          1.3482649326324463,
          1.1807920932769775,
          0.8921420574188232
         ]
        },
        {
         "name": "read time",
         "type": "bar",
         "uid": "90dd0c57-78b9-4d06-8a09-fa8659de9680",
         "x": [
          "hdf-table",
          "hdf-table-zlib",
          "pq-gzip",
          "pq-snappy",
          "pq",
          "hdf-fixed",
          "hdf-fixed-zlib"
         ],
         "y": [
          1.3994731903076172,
          1.3530101776123047,
          0.6933138370513916,
          0.6089568138122559,
          0.34050726890563965,
          0.27785181999206543,
          0.27634572982788086
         ]
        }
       ],
       "layout": {
        "autosize": true,
        "template": {
         "data": {
          "bar": [
           {
            "marker": {
             "autocolorscale": false,
             "colorbar": {
              "outlinewidth": 0,
              "ticks": ""
             },
             "colorscale": [
              [
               0,
               "#0508b8"
              ],
              [
               0.0893854748603352,
               "#1910d8"
              ],
              [
               0.1787709497206704,
               "#3c19f0"
              ],
              [
               0.2681564245810056,
               "#6b1cfb"
              ],
              [
               0.3575418994413408,
               "#981cfd"
              ],
              [
               0.44692737430167595,
               "#bf1cfd"
              ],
              [
               0.5363128491620112,
               "#dd2bfd"
              ],
              [
               0.6256983240223464,
               "#f246fe"
              ],
              [
               0.7150837988826816,
               "#fc67fd"
              ],
              [
               0.8044692737430168,
               "#fe88fc"
              ],
              [
               0.8938547486033519,
               "#fea5fd"
              ],
              [
               0.9832402234636871,
               "#febefe"
              ],
              [
               1,
               "#fec3fe"
              ]
             ],
             "line": {
              "autocolorscale": false,
              "colorscale": [
               [
                0,
                "#0508b8"
               ],
               [
                0.0893854748603352,
                "#1910d8"
               ],
               [
                0.1787709497206704,
                "#3c19f0"
               ],
               [
                0.2681564245810056,
                "#6b1cfb"
               ],
               [
                0.3575418994413408,
                "#981cfd"
               ],
               [
                0.44692737430167595,
                "#bf1cfd"
               ],
               [
                0.5363128491620112,
                "#dd2bfd"
               ],
               [
                0.6256983240223464,
                "#f246fe"
               ],
               [
                0.7150837988826816,
                "#fc67fd"
               ],
               [
                0.8044692737430168,
                "#fe88fc"
               ],
               [
                0.8938547486033519,
                "#fea5fd"
               ],
               [
                0.9832402234636871,
                "#febefe"
               ],
               [
                1,
                "#fec3fe"
               ]
              ]
             }
            },
            "type": "bar"
           }
          ],
          "carpet": [
           {
            "aaxis": {
             "endlinecolor": "#A2B1C6",
             "gridcolor": "#506784",
             "linecolor": "#506784",
             "minorgridcolor": "#506784",
             "startlinecolor": "#A2B1C6"
            },
            "baxis": {
             "endlinecolor": "#A2B1C6",
             "gridcolor": "#506784",
             "linecolor": "#506784",
             "minorgridcolor": "#506784",
             "startlinecolor": "#A2B1C6"
            },
            "type": "carpet"
           }
          ],
          "choropleth": [
           {
            "autocolorscale": false,
            "colorbar": {
             "outlinewidth": 0,
             "ticks": ""
            },
            "colorscale": [
             [
              0,
              "#0508b8"
             ],
             [
              0.0893854748603352,
              "#1910d8"
             ],
             [
              0.1787709497206704,
              "#3c19f0"
             ],
             [
              0.2681564245810056,
              "#6b1cfb"
             ],
             [
              0.3575418994413408,
              "#981cfd"
             ],
             [
              0.44692737430167595,
              "#bf1cfd"
             ],
             [
              0.5363128491620112,
              "#dd2bfd"
             ],
             [
              0.6256983240223464,
              "#f246fe"
             ],
             [
              0.7150837988826816,
              "#fc67fd"
             ],
             [
              0.8044692737430168,
              "#fe88fc"
             ],
             [
              0.8938547486033519,
              "#fea5fd"
             ],
             [
              0.9832402234636871,
              "#febefe"
             ],
             [
              1,
              "#fec3fe"
             ]
            ],
            "type": "choropleth"
           }
          ],
          "contour": [
           {
            "autocolorscale": false,
            "colorbar": {
             "outlinewidth": 0,
             "ticks": ""
            },
            "colorscale": [
             [
              0,
              "#0508b8"
             ],
             [
              0.0893854748603352,
              "#1910d8"
             ],
             [
              0.1787709497206704,
              "#3c19f0"
             ],
             [
              0.2681564245810056,
              "#6b1cfb"
             ],
             [
              0.3575418994413408,
              "#981cfd"
             ],
             [
              0.44692737430167595,
              "#bf1cfd"
             ],
             [
              0.5363128491620112,
              "#dd2bfd"
             ],
             [
              0.6256983240223464,
              "#f246fe"
             ],
             [
              0.7150837988826816,
              "#fc67fd"
             ],
             [
              0.8044692737430168,
              "#fe88fc"
             ],
             [
              0.8938547486033519,
              "#fea5fd"
             ],
             [
              0.9832402234636871,
              "#febefe"
             ],
             [
              1,
              "#fec3fe"
             ]
            ],
            "type": "contour"
           }
          ],
          "contourcarpet": [
           {
            "autocolorscale": false,
            "colorbar": {
             "outlinewidth": 0,
             "ticks": ""
            },
            "colorscale": [
             [
              0,
              "#0508b8"
             ],
             [
              0.0893854748603352,
              "#1910d8"
             ],
             [
              0.1787709497206704,
              "#3c19f0"
             ],
             [
              0.2681564245810056,
              "#6b1cfb"
             ],
             [
              0.3575418994413408,
              "#981cfd"
             ],
             [
              0.44692737430167595,
              "#bf1cfd"
             ],
             [
              0.5363128491620112,
              "#dd2bfd"
             ],
             [
              0.6256983240223464,
              "#f246fe"
             ],
             [
              0.7150837988826816,
              "#fc67fd"
             ],
             [
              0.8044692737430168,
              "#fe88fc"
             ],
             [
              0.8938547486033519,
              "#fea5fd"
             ],
             [
              0.9832402234636871,
              "#febefe"
             ],
             [
              1,
              "#fec3fe"
             ]
            ],
            "type": "contourcarpet"
           }
          ],
          "heatmap": [
           {
            "autocolorscale": false,
            "colorbar": {
             "outlinewidth": 0,
             "ticks": ""
            },
            "colorscale": [
             [
              0,
              "#0508b8"
             ],
             [
              0.0893854748603352,
              "#1910d8"
             ],
             [
              0.1787709497206704,
              "#3c19f0"
             ],
             [
              0.2681564245810056,
              "#6b1cfb"
             ],
             [
              0.3575418994413408,
              "#981cfd"
             ],
             [
              0.44692737430167595,
              "#bf1cfd"
             ],
             [
              0.5363128491620112,
              "#dd2bfd"
             ],
             [
              0.6256983240223464,
              "#f246fe"
             ],
             [
              0.7150837988826816,
              "#fc67fd"
             ],
             [
              0.8044692737430168,
              "#fe88fc"
             ],
             [
              0.8938547486033519,
              "#fea5fd"
             ],
             [
              0.9832402234636871,
              "#febefe"
             ],
             [
              1,
              "#fec3fe"
             ]
            ],
            "type": "heatmap"
           }
          ],
          "heatmapgl": [
           {
            "autocolorscale": false,
            "colorbar": {
             "outlinewidth": 0,
             "ticks": ""
            },
            "colorscale": [
             [
              0,
              "#0508b8"
             ],
             [
              0.0893854748603352,
              "#1910d8"
             ],
             [
              0.1787709497206704,
              "#3c19f0"
             ],
             [
              0.2681564245810056,
              "#6b1cfb"
             ],
             [
              0.3575418994413408,
              "#981cfd"
             ],
             [
              0.44692737430167595,
              "#bf1cfd"
             ],
             [
              0.5363128491620112,
              "#dd2bfd"
             ],
             [
              0.6256983240223464,
              "#f246fe"
             ],
             [
              0.7150837988826816,
              "#fc67fd"
             ],
             [
              0.8044692737430168,
              "#fe88fc"
             ],
             [
              0.8938547486033519,
              "#fea5fd"
             ],
             [
              0.9832402234636871,
              "#febefe"
             ],
             [
              1,
              "#fec3fe"
             ]
            ],
            "type": "heatmapgl"
           }
          ],
          "histogram": [
           {
            "marker": {
             "autocolorscale": false,
             "colorbar": {
              "outlinewidth": 0,
              "ticks": ""
             },
             "colorscale": [
              [
               0,
               "#0508b8"
              ],
              [
               0.0893854748603352,
               "#1910d8"
              ],
              [
               0.1787709497206704,
               "#3c19f0"
              ],
              [
               0.2681564245810056,
               "#6b1cfb"
              ],
              [
               0.3575418994413408,
               "#981cfd"
              ],
              [
               0.44692737430167595,
               "#bf1cfd"
              ],
              [
               0.5363128491620112,
               "#dd2bfd"
              ],
              [
               0.6256983240223464,
               "#f246fe"
              ],
              [
               0.7150837988826816,
               "#fc67fd"
              ],
              [
               0.8044692737430168,
               "#fe88fc"
              ],
              [
               0.8938547486033519,
               "#fea5fd"
              ],
              [
               0.9832402234636871,
               "#febefe"
              ],
              [
               1,
               "#fec3fe"
              ]
             ]
            },
            "type": "histogram"
           }
          ],
          "histogram2d": [
           {
            "autocolorscale": false,
            "colorbar": {
             "outlinewidth": 0,
             "ticks": ""
            },
            "colorscale": [
             [
              0,
              "#0508b8"
             ],
             [
              0.0893854748603352,
              "#1910d8"
             ],
             [
              0.1787709497206704,
              "#3c19f0"
             ],
             [
              0.2681564245810056,
              "#6b1cfb"
             ],
             [
              0.3575418994413408,
              "#981cfd"
             ],
             [
              0.44692737430167595,
              "#bf1cfd"
             ],
             [
              0.5363128491620112,
              "#dd2bfd"
             ],
             [
              0.6256983240223464,
              "#f246fe"
             ],
             [
              0.7150837988826816,
              "#fc67fd"
             ],
             [
              0.8044692737430168,
              "#fe88fc"
             ],
             [
              0.8938547486033519,
              "#fea5fd"
             ],
             [
              0.9832402234636871,
              "#febefe"
             ],
             [
              1,
              "#fec3fe"
             ]
            ],
            "type": "histogram2d"
           }
          ],
          "histogram2dcontour": [
           {
            "autocolorscale": false,
            "colorbar": {
             "outlinewidth": 0,
             "ticks": ""
            },
            "colorscale": [
             [
              0,
              "#0508b8"
             ],
             [
              0.0893854748603352,
              "#1910d8"
             ],
             [
              0.1787709497206704,
              "#3c19f0"
             ],
             [
              0.2681564245810056,
              "#6b1cfb"
             ],
             [
              0.3575418994413408,
              "#981cfd"
             ],
             [
              0.44692737430167595,
              "#bf1cfd"
             ],
             [
              0.5363128491620112,
              "#dd2bfd"
             ],
             [
              0.6256983240223464,
              "#f246fe"
             ],
             [
              0.7150837988826816,
              "#fc67fd"
             ],
             [
              0.8044692737430168,
              "#fe88fc"
             ],
             [
              0.8938547486033519,
              "#fea5fd"
             ],
             [
              0.9832402234636871,
              "#febefe"
             ],
             [
              1,
              "#fec3fe"
             ]
            ],
            "type": "histogram2dcontour"
           }
          ],
          "mesh3d": [
           {
            "autocolorscale": false,
            "colorbar": {
             "outlinewidth": 0,
             "ticks": ""
            },
            "colorscale": [
             [
              0,
              "#0508b8"
             ],
             [
              0.0893854748603352,
              "#1910d8"
             ],
             [
              0.1787709497206704,
              "#3c19f0"
             ],
             [
              0.2681564245810056,
              "#6b1cfb"
             ],
             [
              0.3575418994413408,
              "#981cfd"
             ],
             [
              0.44692737430167595,
              "#bf1cfd"
             ],
             [
              0.5363128491620112,
              "#dd2bfd"
             ],
             [
              0.6256983240223464,
              "#f246fe"
             ],
             [
              0.7150837988826816,
              "#fc67fd"
             ],
             [
              0.8044692737430168,
              "#fe88fc"
             ],
             [
              0.8938547486033519,
              "#fea5fd"
             ],
             [
              0.9832402234636871,
              "#febefe"
             ],
             [
              1,
              "#fec3fe"
             ]
            ],
            "type": "mesh3d"
           }
          ],
          "parcoords": [
           {
            "line": {
             "autocolorscale": false,
             "colorbar": {
              "outlinewidth": 0,
              "ticks": ""
             },
             "colorscale": [
              [
               0,
               "#0508b8"
              ],
              [
               0.0893854748603352,
               "#1910d8"
              ],
              [
               0.1787709497206704,
               "#3c19f0"
              ],
              [
               0.2681564245810056,
               "#6b1cfb"
              ],
              [
               0.3575418994413408,
               "#981cfd"
              ],
              [
               0.44692737430167595,
               "#bf1cfd"
              ],
              [
               0.5363128491620112,
               "#dd2bfd"
              ],
              [
               0.6256983240223464,
               "#f246fe"
              ],
              [
               0.7150837988826816,
               "#fc67fd"
              ],
              [
               0.8044692737430168,
               "#fe88fc"
              ],
              [
               0.8938547486033519,
               "#fea5fd"
              ],
              [
               0.9832402234636871,
               "#febefe"
              ],
              [
               1,
               "#fec3fe"
              ]
             ]
            },
            "type": "parcoords"
           }
          ],
          "scatter": [
           {
            "marker": {
             "line": {
              "color": "#283442"
             }
            },
            "type": "scatter"
           }
          ],
          "scatter3d": [
           {
            "line": {
             "autocolorscale": false,
             "colorscale": [
              [
               0,
               "#0508b8"
              ],
              [
               0.0893854748603352,
               "#1910d8"
              ],
              [
               0.1787709497206704,
               "#3c19f0"
              ],
              [
               0.2681564245810056,
               "#6b1cfb"
              ],
              [
               0.3575418994413408,
               "#981cfd"
              ],
              [
               0.44692737430167595,
               "#bf1cfd"
              ],
              [
               0.5363128491620112,
               "#dd2bfd"
              ],
              [
               0.6256983240223464,
               "#f246fe"
              ],
              [
               0.7150837988826816,
               "#fc67fd"
              ],
              [
               0.8044692737430168,
               "#fe88fc"
              ],
              [
               0.8938547486033519,
               "#fea5fd"
              ],
              [
               0.9832402234636871,
               "#febefe"
              ],
              [
               1,
               "#fec3fe"
              ]
             ]
            },
            "marker": {
             "autocolorscale": false,
             "colorbar": {
              "outlinewidth": 0,
              "ticks": ""
             },
             "colorscale": [
              [
               0,
               "#0508b8"
              ],
              [
               0.0893854748603352,
               "#1910d8"
              ],
              [
               0.1787709497206704,
               "#3c19f0"
              ],
              [
               0.2681564245810056,
               "#6b1cfb"
              ],
              [
               0.3575418994413408,
               "#981cfd"
              ],
              [
               0.44692737430167595,
               "#bf1cfd"
              ],
              [
               0.5363128491620112,
               "#dd2bfd"
              ],
              [
               0.6256983240223464,
               "#f246fe"
              ],
              [
               0.7150837988826816,
               "#fc67fd"
              ],
              [
               0.8044692737430168,
               "#fe88fc"
              ],
              [
               0.8938547486033519,
               "#fea5fd"
              ],
              [
               0.9832402234636871,
               "#febefe"
              ],
              [
               1,
               "#fec3fe"
              ]
             ]
            },
            "type": "scatter3d"
           }
          ],
          "scattercarpet": [
           {
            "marker": {
             "autocolorscale": false,
             "colorbar": {
              "outlinewidth": 0,
              "ticks": ""
             },
             "colorscale": [
              [
               0,
               "#0508b8"
              ],
              [
               0.0893854748603352,
               "#1910d8"
              ],
              [
               0.1787709497206704,
               "#3c19f0"
              ],
              [
               0.2681564245810056,
               "#6b1cfb"
              ],
              [
               0.3575418994413408,
               "#981cfd"
              ],
              [
               0.44692737430167595,
               "#bf1cfd"
              ],
              [
               0.5363128491620112,
               "#dd2bfd"
              ],
              [
               0.6256983240223464,
               "#f246fe"
              ],
              [
               0.7150837988826816,
               "#fc67fd"
              ],
              [
               0.8044692737430168,
               "#fe88fc"
              ],
              [
               0.8938547486033519,
               "#fea5fd"
              ],
              [
               0.9832402234636871,
               "#febefe"
              ],
              [
               1,
               "#fec3fe"
              ]
             ]
            },
            "type": "scattercarpet"
           }
          ],
          "scattergeo": [
           {
            "marker": {
             "autocolorscale": false,
             "colorbar": {
              "outlinewidth": 0,
              "ticks": ""
             },
             "colorscale": [
              [
               0,
               "#0508b8"
              ],
              [
               0.0893854748603352,
               "#1910d8"
              ],
              [
               0.1787709497206704,
               "#3c19f0"
              ],
              [
               0.2681564245810056,
               "#6b1cfb"
              ],
              [
               0.3575418994413408,
               "#981cfd"
              ],
              [
               0.44692737430167595,
               "#bf1cfd"
              ],
              [
               0.5363128491620112,
               "#dd2bfd"
              ],
              [
               0.6256983240223464,
               "#f246fe"
              ],
              [
               0.7150837988826816,
               "#fc67fd"
              ],
              [
               0.8044692737430168,
               "#fe88fc"
              ],
              [
               0.8938547486033519,
               "#fea5fd"
              ],
              [
               0.9832402234636871,
               "#febefe"
              ],
              [
               1,
               "#fec3fe"
              ]
             ]
            },
            "type": "scattergeo"
           }
          ],
          "scattergl": [
           {
            "marker": {
             "line": {
              "color": "#283442"
             }
            },
            "type": "scattergl"
           }
          ],
          "scattermapbox": [
           {
            "marker": {
             "autocolorscale": false,
             "colorbar": {
              "outlinewidth": 0,
              "ticks": ""
             },
             "colorscale": [
              [
               0,
               "#0508b8"
              ],
              [
               0.0893854748603352,
               "#1910d8"
              ],
              [
               0.1787709497206704,
               "#3c19f0"
              ],
              [
               0.2681564245810056,
               "#6b1cfb"
              ],
              [
               0.3575418994413408,
               "#981cfd"
              ],
              [
               0.44692737430167595,
               "#bf1cfd"
              ],
              [
               0.5363128491620112,
               "#dd2bfd"
              ],
              [
               0.6256983240223464,
               "#f246fe"
              ],
              [
               0.7150837988826816,
               "#fc67fd"
              ],
              [
               0.8044692737430168,
               "#fe88fc"
              ],
              [
               0.8938547486033519,
               "#fea5fd"
              ],
              [
               0.9832402234636871,
               "#febefe"
              ],
              [
               1,
               "#fec3fe"
              ]
             ]
            },
            "type": "scattermapbox"
           }
          ],
          "scatterpolar": [
           {
            "marker": {
             "autocolorscale": false,
             "colorbar": {
              "outlinewidth": 0,
              "ticks": ""
             },
             "colorscale": [
              [
               0,
               "#0508b8"
              ],
              [
               0.0893854748603352,
               "#1910d8"
              ],
              [
               0.1787709497206704,
               "#3c19f0"
              ],
              [
               0.2681564245810056,
               "#6b1cfb"
              ],
              [
               0.3575418994413408,
               "#981cfd"
              ],
              [
               0.44692737430167595,
               "#bf1cfd"
              ],
              [
               0.5363128491620112,
               "#dd2bfd"
              ],
              [
               0.6256983240223464,
               "#f246fe"
              ],
              [
               0.7150837988826816,
               "#fc67fd"
              ],
              [
               0.8044692737430168,
               "#fe88fc"
              ],
              [
               0.8938547486033519,
               "#fea5fd"
              ],
              [
               0.9832402234636871,
               "#febefe"
              ],
              [
               1,
               "#fec3fe"
              ]
             ]
            },
            "type": "scatterpolar"
           }
          ],
          "scatterpolargl": [
           {
            "marker": {
             "autocolorscale": false,
             "colorbar": {
              "outlinewidth": 0,
              "ticks": ""
             },
             "colorscale": [
              [
               0,
               "#0508b8"
              ],
              [
               0.0893854748603352,
               "#1910d8"
              ],
              [
               0.1787709497206704,
               "#3c19f0"
              ],
              [
               0.2681564245810056,
               "#6b1cfb"
              ],
              [
               0.3575418994413408,
               "#981cfd"
              ],
              [
               0.44692737430167595,
               "#bf1cfd"
              ],
              [
               0.5363128491620112,
               "#dd2bfd"
              ],
              [
               0.6256983240223464,
               "#f246fe"
              ],
              [
               0.7150837988826816,
               "#fc67fd"
              ],
              [
               0.8044692737430168,
               "#fe88fc"
              ],
              [
               0.8938547486033519,
               "#fea5fd"
              ],
              [
               0.9832402234636871,
               "#febefe"
              ],
              [
               1,
               "#fec3fe"
              ]
             ],
             "line": {
              "autocolorscale": false,
              "colorscale": [
               [
                0,
                "#0508b8"
               ],
               [
                0.0893854748603352,
                "#1910d8"
               ],
               [
                0.1787709497206704,
                "#3c19f0"
               ],
               [
                0.2681564245810056,
                "#6b1cfb"
               ],
               [
                0.3575418994413408,
                "#981cfd"
               ],
               [
                0.44692737430167595,
                "#bf1cfd"
               ],
               [
                0.5363128491620112,
                "#dd2bfd"
               ],
               [
                0.6256983240223464,
                "#f246fe"
               ],
               [
                0.7150837988826816,
                "#fc67fd"
               ],
               [
                0.8044692737430168,
                "#fe88fc"
               ],
               [
                0.8938547486033519,
                "#fea5fd"
               ],
               [
                0.9832402234636871,
                "#febefe"
               ],
               [
                1,
                "#fec3fe"
               ]
              ]
             }
            },
            "type": "scatterpolargl"
           }
          ],
          "scatterternary": [
           {
            "marker": {
             "autocolorscale": false,
             "colorbar": {
              "outlinewidth": 0,
              "ticks": ""
             },
             "colorscale": [
              [
               0,
               "#0508b8"
              ],
              [
               0.0893854748603352,
               "#1910d8"
              ],
              [
               0.1787709497206704,
               "#3c19f0"
              ],
              [
               0.2681564245810056,
               "#6b1cfb"
              ],
              [
               0.3575418994413408,
               "#981cfd"
              ],
              [
               0.44692737430167595,
               "#bf1cfd"
              ],
              [
               0.5363128491620112,
               "#dd2bfd"
              ],
              [
               0.6256983240223464,
               "#f246fe"
              ],
              [
               0.7150837988826816,
               "#fc67fd"
              ],
              [
               0.8044692737430168,
               "#fe88fc"
              ],
              [
               0.8938547486033519,
               "#fea5fd"
              ],
              [
               0.9832402234636871,
               "#febefe"
              ],
              [
               1,
               "#fec3fe"
              ]
             ]
            },
            "type": "scatterternary"
           }
          ],
          "surface": [
           {
            "autocolorscale": false,
            "colorbar": {
             "outlinewidth": 0,
             "ticks": ""
            },
            "colorscale": [
             [
              0,
              "#0508b8"
             ],
             [
              0.0893854748603352,
              "#1910d8"
             ],
             [
              0.1787709497206704,
              "#3c19f0"
             ],
             [
              0.2681564245810056,
              "#6b1cfb"
             ],
             [
              0.3575418994413408,
              "#981cfd"
             ],
             [
              0.44692737430167595,
              "#bf1cfd"
             ],
             [
              0.5363128491620112,
              "#dd2bfd"
             ],
             [
              0.6256983240223464,
              "#f246fe"
             ],
             [
              0.7150837988826816,
              "#fc67fd"
             ],
             [
              0.8044692737430168,
              "#fe88fc"
             ],
             [
              0.8938547486033519,
              "#fea5fd"
             ],
             [
              0.9832402234636871,
              "#febefe"
             ],
             [
              1,
              "#fec3fe"
             ]
            ],
            "type": "surface"
           }
          ],
          "table": [
           {
            "cells": {
             "fill": {
              "color": "#506784"
             },
             "line": {
              "color": "rgb(17,17,17)"
             }
            },
            "header": {
             "fill": {
              "color": "#2a3f5f"
             },
             "line": {
              "color": "rgb(17,17,17)"
             }
            },
            "type": "table"
           }
          ]
         },
         "layout": {
          "annotationdefaults": {
           "arrowcolor": "#f2f5fa",
           "arrowhead": 0,
           "arrowwidth": 1
          },
          "colorway": [
           "#636efa",
           "#EF553B",
           "#00cc96",
           "#ab63fa",
           "#19d3f3",
           "#e763fa"
          ],
          "font": {
           "color": "#f2f5fa"
          },
          "geo": {
           "bgcolor": "rgb(17,17,17)",
           "lakecolor": "rgb(17,17,17)",
           "landcolor": "rgb(17,17,17)",
           "showlakes": true,
           "showland": true,
           "subunitcolor": "#506784"
          },
          "paper_bgcolor": "rgb(17,17,17)",
          "plot_bgcolor": "rgb(17,17,17)",
          "polar": {
           "angularaxis": {
            "gridcolor": "#506784",
            "linecolor": "#506784",
            "ticks": ""
           },
           "bgcolor": "rgb(17,17,17)",
           "radialaxis": {
            "gridcolor": "#506784",
            "linecolor": "#506784",
            "ticks": ""
           }
          },
          "scene": {
           "xaxis": {
            "backgroundcolor": "rgb(17,17,17)",
            "gridcolor": "#506784",
            "gridwidth": 2,
            "linecolor": "#506784",
            "showbackground": true,
            "ticks": "",
            "zerolinecolor": "#C8D4E3"
           },
           "yaxis": {
            "backgroundcolor": "rgb(17,17,17)",
            "gridcolor": "#506784",
            "gridwidth": 2,
            "linecolor": "#506784",
            "showbackground": true,
            "ticks": "",
            "zerolinecolor": "#C8D4E3"
           },
           "zaxis": {
            "backgroundcolor": "rgb(17,17,17)",
            "gridcolor": "#506784",
            "gridwidth": 2,
            "linecolor": "#506784",
            "showbackground": true,
            "ticks": "",
            "zerolinecolor": "#C8D4E3"
           }
          },
          "shapedefaults": {
           "fillcolor": "#f2f5fa",
           "line": {
            "width": 0
           },
           "opacity": 0.4
          },
          "sliderdefaults": {
           "bgcolor": "#C8D4E3",
           "bordercolor": "rgb(17,17,17)",
           "borderwidth": 1,
           "tickwidth": 0
          },
          "ternary": {
           "aaxis": {
            "gridcolor": "#506784",
            "linecolor": "#506784",
            "ticks": ""
           },
           "baxis": {
            "gridcolor": "#506784",
            "linecolor": "#506784",
            "ticks": ""
           },
           "bgcolor": "rgb(17,17,17)",
           "caxis": {
            "gridcolor": "#506784",
            "linecolor": "#506784",
            "ticks": ""
           }
          },
          "updatemenudefaults": {
           "bgcolor": "#506784",
           "borderwidth": 0
          },
          "xaxis": {
           "gridcolor": "#283442",
           "linecolor": "#506784",
           "ticks": "",
           "zerolinecolor": "#283442",
           "zerolinewidth": 2
          },
          "yaxis": {
           "gridcolor": "#283442",
           "linecolor": "#506784",
           "ticks": "",
           "zerolinecolor": "#283442",
           "zerolinewidth": 2
          }
         }
        },
        "title": "Read/Write times for 10000000 rows",
        "xaxis": {
         "autorange": true,
         "range": [
          -0.5,
          6.5
         ],
         "type": "category"
        },
        "yaxis": {
         "autorange": true,
         "hoverformat": ".1f",
         "range": [
          0,
          28.255781374479596
         ],
         "title": "time / s",
         "type": "linear"
        }
       }
      },
      "image/png": "[encoded data removed]"
     },
     "metadata": {},
     "output_type": "display_data"
    }
   ],
   "source": [
    "data = [\n",
    "    go.Bar(\n",
    "        x=results['format'],\n",
    "        y=results['write_s'],\n",
    "        name='write time'\n",
    "    ),\n",
    "    go.Bar(\n",
    "        x=results['format'],\n",
    "        y=results['read_s'],\n",
    "        name='read time'   \n",
    "    ),\n",
    "]\n",
    "\n",
    "layout = go.Layout(\n",
    "    title=f'Read/Write times for {len(test_df)} rows',\n",
    "    yaxis = dict(\n",
    "        title='time / s',\n",
    "        hoverformat='.1f'\n",
    "    ),\n",
    "    template='plotly_dark'\n",
    ")\n",
    "\n",
    "fig = go.Figure(data=data, layout=layout)\n",
    "\n",
    "py.iplot(fig)"
   ]
  },
  {
   "cell_type": "code",
   "execution_count": 12,
   "metadata": {},
   "outputs": [],
   "source": [
    "plotly.io.write_json(fig, 'large_read_write_bar.json')"
   ]
  },
  {
   "cell_type": "code",
   "execution_count": 50,
   "metadata": {},
   "outputs": [
    {
     "data": {
      "application/vnd.plotly.v1+json": {
       "data": [
        {
         "hoverinfo": "text+x+y",
         "mode": "markers",
         "name": "hdf-table",
         "text": [
          "hdf-table"
         ],
         "type": "scatter",
         "uid": "bbbc2deb-a15c-4e64-878a-e8b5e9695a85",
         "x": [
          1.3994731903076172
         ],
         "y": [
          612.3484325408936
         ]
        },
        {
         "hoverinfo": "text+x+y",
         "mode": "markers",
         "name": "hdf-table-zlib",
         "text": [
          "hdf-table-zlib"
         ],
         "type": "scatter",
         "uid": "32319cae-7404-4161-b762-775aaf714f2a",
         "x": [
          1.3530101776123047
         ],
         "y": [
          612.3484325408936
         ]
        },
        {
         "hoverinfo": "text+x+y",
         "mode": "markers",
         "name": "pq-gzip",
         "text": [
          "pq-gzip"
         ],
         "type": "scatter",
         "uid": "216b3eb0-3e57-4eac-923b-f3c761c36c70",
         "x": [
          0.6933138370513916
         ],
         "y": [
          479.7192049026489
         ]
        },
        {
         "hoverinfo": "text+x+y",
         "mode": "markers",
         "name": "pq-snappy",
         "text": [
          "pq-snappy"
         ],
         "type": "scatter",
         "uid": "6e237566-1420-4d98-afb7-7996d31cf0e9",
         "x": [
          0.6089568138122559
         ],
         "y": [
          545.9669046401978
         ]
        },
        {
         "hoverinfo": "text+x+y",
         "mode": "markers",
         "name": "pq",
         "text": [
          "pq"
         ],
         "type": "scatter",
         "uid": "eb217b9e-57d0-44c9-9e3a-871cbaf17748",
         "x": [
          0.34050726890563965
         ],
         "y": [
          612.5148839950562
         ]
        },
        {
         "hoverinfo": "text+x+y",
         "mode": "markers",
         "name": "hdf-fixed",
         "text": [
          "hdf-fixed"
         ],
         "type": "scatter",
         "uid": "2ccab2bd-d0f2-4453-a689-f3ce5324f67a",
         "x": [
          0.27785181999206543
         ],
         "y": [
          610.3604202270508
         ]
        },
        {
         "hoverinfo": "text+x+y",
         "mode": "markers",
         "name": "hdf-fixed-zlib",
         "text": [
          "hdf-fixed-zlib"
         ],
         "type": "scatter",
         "uid": "0ed6838e-a2b2-491f-afa8-eeda38b2cc6a",
         "x": [
          0.27634572982788086
         ],
         "y": [
          610.3604202270508
         ]
        }
       ],
       "layout": {
        "autosize": true,
        "hovermode": "closest",
        "template": {
         "data": {
          "bar": [
           {
            "marker": {
             "autocolorscale": false,
             "colorbar": {
              "outlinewidth": 0,
              "ticks": ""
             },
             "colorscale": [
              [
               0,
               "#0508b8"
              ],
              [
               0.0893854748603352,
               "#1910d8"
              ],
              [
               0.1787709497206704,
               "#3c19f0"
              ],
              [
               0.2681564245810056,
               "#6b1cfb"
              ],
              [
               0.3575418994413408,
               "#981cfd"
              ],
              [
               0.44692737430167595,
               "#bf1cfd"
              ],
              [
               0.5363128491620112,
               "#dd2bfd"
              ],
              [
               0.6256983240223464,
               "#f246fe"
              ],
              [
               0.7150837988826816,
               "#fc67fd"
              ],
              [
               0.8044692737430168,
               "#fe88fc"
              ],
              [
               0.8938547486033519,
               "#fea5fd"
              ],
              [
               0.9832402234636871,
               "#febefe"
              ],
              [
               1,
               "#fec3fe"
              ]
             ],
             "line": {
              "autocolorscale": false,
              "colorscale": [
               [
                0,
                "#0508b8"
               ],
               [
                0.0893854748603352,
                "#1910d8"
               ],
               [
                0.1787709497206704,
                "#3c19f0"
               ],
               [
                0.2681564245810056,
                "#6b1cfb"
               ],
               [
                0.3575418994413408,
                "#981cfd"
               ],
               [
                0.44692737430167595,
                "#bf1cfd"
               ],
               [
                0.5363128491620112,
                "#dd2bfd"
               ],
               [
                0.6256983240223464,
                "#f246fe"
               ],
               [
                0.7150837988826816,
                "#fc67fd"
               ],
               [
                0.8044692737430168,
                "#fe88fc"
               ],
               [
                0.8938547486033519,
                "#fea5fd"
               ],
               [
                0.9832402234636871,
                "#febefe"
               ],
               [
                1,
                "#fec3fe"
               ]
              ]
             }
            },
            "type": "bar"
           }
          ],
          "carpet": [
           {
            "aaxis": {
             "endlinecolor": "#A2B1C6",
             "gridcolor": "#506784",
             "linecolor": "#506784",
             "minorgridcolor": "#506784",
             "startlinecolor": "#A2B1C6"
            },
            "baxis": {
             "endlinecolor": "#A2B1C6",
             "gridcolor": "#506784",
             "linecolor": "#506784",
             "minorgridcolor": "#506784",
             "startlinecolor": "#A2B1C6"
            },
            "type": "carpet"
           }
          ],
          "choropleth": [
           {
            "autocolorscale": false,
            "colorbar": {
             "outlinewidth": 0,
             "ticks": ""
            },
            "colorscale": [
             [
              0,
              "#0508b8"
             ],
             [
              0.0893854748603352,
              "#1910d8"
             ],
             [
              0.1787709497206704,
              "#3c19f0"
             ],
             [
              0.2681564245810056,
              "#6b1cfb"
             ],
             [
              0.3575418994413408,
              "#981cfd"
             ],
             [
              0.44692737430167595,
              "#bf1cfd"
             ],
             [
              0.5363128491620112,
              "#dd2bfd"
             ],
             [
              0.6256983240223464,
              "#f246fe"
             ],
             [
              0.7150837988826816,
              "#fc67fd"
             ],
             [
              0.8044692737430168,
              "#fe88fc"
             ],
             [
              0.8938547486033519,
              "#fea5fd"
             ],
             [
              0.9832402234636871,
              "#febefe"
             ],
             [
              1,
              "#fec3fe"
             ]
            ],
            "type": "choropleth"
           }
          ],
          "contour": [
           {
            "autocolorscale": false,
            "colorbar": {
             "outlinewidth": 0,
             "ticks": ""
            },
            "colorscale": [
             [
              0,
              "#0508b8"
             ],
             [
              0.0893854748603352,
              "#1910d8"
             ],
             [
              0.1787709497206704,
              "#3c19f0"
             ],
             [
              0.2681564245810056,
              "#6b1cfb"
             ],
             [
              0.3575418994413408,
              "#981cfd"
             ],
             [
              0.44692737430167595,
              "#bf1cfd"
             ],
             [
              0.5363128491620112,
              "#dd2bfd"
             ],
             [
              0.6256983240223464,
              "#f246fe"
             ],
             [
              0.7150837988826816,
              "#fc67fd"
             ],
             [
              0.8044692737430168,
              "#fe88fc"
             ],
             [
              0.8938547486033519,
              "#fea5fd"
             ],
             [
              0.9832402234636871,
              "#febefe"
             ],
             [
              1,
              "#fec3fe"
             ]
            ],
            "type": "contour"
           }
          ],
          "contourcarpet": [
           {
            "autocolorscale": false,
            "colorbar": {
             "outlinewidth": 0,
             "ticks": ""
            },
            "colorscale": [
             [
              0,
              "#0508b8"
             ],
             [
              0.0893854748603352,
              "#1910d8"
             ],
             [
              0.1787709497206704,
              "#3c19f0"
             ],
             [
              0.2681564245810056,
              "#6b1cfb"
             ],
             [
              0.3575418994413408,
              "#981cfd"
             ],
             [
              0.44692737430167595,
              "#bf1cfd"
             ],
             [
              0.5363128491620112,
              "#dd2bfd"
             ],
             [
              0.6256983240223464,
              "#f246fe"
             ],
             [
              0.7150837988826816,
              "#fc67fd"
             ],
             [
              0.8044692737430168,
              "#fe88fc"
             ],
             [
              0.8938547486033519,
              "#fea5fd"
             ],
             [
              0.9832402234636871,
              "#febefe"
             ],
             [
              1,
              "#fec3fe"
             ]
            ],
            "type": "contourcarpet"
           }
          ],
          "heatmap": [
           {
            "autocolorscale": false,
            "colorbar": {
             "outlinewidth": 0,
             "ticks": ""
            },
            "colorscale": [
             [
              0,
              "#0508b8"
             ],
             [
              0.0893854748603352,
              "#1910d8"
             ],
             [
              0.1787709497206704,
              "#3c19f0"
             ],
             [
              0.2681564245810056,
              "#6b1cfb"
             ],
             [
              0.3575418994413408,
              "#981cfd"
             ],
             [
              0.44692737430167595,
              "#bf1cfd"
             ],
             [
              0.5363128491620112,
              "#dd2bfd"
             ],
             [
              0.6256983240223464,
              "#f246fe"
             ],
             [
              0.7150837988826816,
              "#fc67fd"
             ],
             [
              0.8044692737430168,
              "#fe88fc"
             ],
             [
              0.8938547486033519,
              "#fea5fd"
             ],
             [
              0.9832402234636871,
              "#febefe"
             ],
             [
              1,
              "#fec3fe"
             ]
            ],
            "type": "heatmap"
           }
          ],
          "heatmapgl": [
           {
            "autocolorscale": false,
            "colorbar": {
             "outlinewidth": 0,
             "ticks": ""
            },
            "colorscale": [
             [
              0,
              "#0508b8"
             ],
             [
              0.0893854748603352,
              "#1910d8"
             ],
             [
              0.1787709497206704,
              "#3c19f0"
             ],
             [
              0.2681564245810056,
              "#6b1cfb"
             ],
             [
              0.3575418994413408,
              "#981cfd"
             ],
             [
              0.44692737430167595,
              "#bf1cfd"
             ],
             [
              0.5363128491620112,
              "#dd2bfd"
             ],
             [
              0.6256983240223464,
              "#f246fe"
             ],
             [
              0.7150837988826816,
              "#fc67fd"
             ],
             [
              0.8044692737430168,
              "#fe88fc"
             ],
             [
              0.8938547486033519,
              "#fea5fd"
             ],
             [
              0.9832402234636871,
              "#febefe"
             ],
             [
              1,
              "#fec3fe"
             ]
            ],
            "type": "heatmapgl"
           }
          ],
          "histogram": [
           {
            "marker": {
             "autocolorscale": false,
             "colorbar": {
              "outlinewidth": 0,
              "ticks": ""
             },
             "colorscale": [
              [
               0,
               "#0508b8"
              ],
              [
               0.0893854748603352,
               "#1910d8"
              ],
              [
               0.1787709497206704,
               "#3c19f0"
              ],
              [
               0.2681564245810056,
               "#6b1cfb"
              ],
              [
               0.3575418994413408,
               "#981cfd"
              ],
              [
               0.44692737430167595,
               "#bf1cfd"
              ],
              [
               0.5363128491620112,
               "#dd2bfd"
              ],
              [
               0.6256983240223464,
               "#f246fe"
              ],
              [
               0.7150837988826816,
               "#fc67fd"
              ],
              [
               0.8044692737430168,
               "#fe88fc"
              ],
              [
               0.8938547486033519,
               "#fea5fd"
              ],
              [
               0.9832402234636871,
               "#febefe"
              ],
              [
               1,
               "#fec3fe"
              ]
             ]
            },
            "type": "histogram"
           }
          ],
          "histogram2d": [
           {
            "autocolorscale": false,
            "colorbar": {
             "outlinewidth": 0,
             "ticks": ""
            },
            "colorscale": [
             [
              0,
              "#0508b8"
             ],
             [
              0.0893854748603352,
              "#1910d8"
             ],
             [
              0.1787709497206704,
              "#3c19f0"
             ],
             [
              0.2681564245810056,
              "#6b1cfb"
             ],
             [
              0.3575418994413408,
              "#981cfd"
             ],
             [
              0.44692737430167595,
              "#bf1cfd"
             ],
             [
              0.5363128491620112,
              "#dd2bfd"
             ],
             [
              0.6256983240223464,
              "#f246fe"
             ],
             [
              0.7150837988826816,
              "#fc67fd"
             ],
             [
              0.8044692737430168,
              "#fe88fc"
             ],
             [
              0.8938547486033519,
              "#fea5fd"
             ],
             [
              0.9832402234636871,
              "#febefe"
             ],
             [
              1,
              "#fec3fe"
             ]
            ],
            "type": "histogram2d"
           }
          ],
          "histogram2dcontour": [
           {
            "autocolorscale": false,
            "colorbar": {
             "outlinewidth": 0,
             "ticks": ""
            },
            "colorscale": [
             [
              0,
              "#0508b8"
             ],
             [
              0.0893854748603352,
              "#1910d8"
             ],
             [
              0.1787709497206704,
              "#3c19f0"
             ],
             [
              0.2681564245810056,
              "#6b1cfb"
             ],
             [
              0.3575418994413408,
              "#981cfd"
             ],
             [
              0.44692737430167595,
              "#bf1cfd"
             ],
             [
              0.5363128491620112,
              "#dd2bfd"
             ],
             [
              0.6256983240223464,
              "#f246fe"
             ],
             [
              0.7150837988826816,
              "#fc67fd"
             ],
             [
              0.8044692737430168,
              "#fe88fc"
             ],
             [
              0.8938547486033519,
              "#fea5fd"
             ],
             [
              0.9832402234636871,
              "#febefe"
             ],
             [
              1,
              "#fec3fe"
             ]
            ],
            "type": "histogram2dcontour"
           }
          ],
          "mesh3d": [
           {
            "autocolorscale": false,
            "colorbar": {
             "outlinewidth": 0,
             "ticks": ""
            },
            "colorscale": [
             [
              0,
              "#0508b8"
             ],
             [
              0.0893854748603352,
              "#1910d8"
             ],
             [
              0.1787709497206704,
              "#3c19f0"
             ],
             [
              0.2681564245810056,
              "#6b1cfb"
             ],
             [
              0.3575418994413408,
              "#981cfd"
             ],
             [
              0.44692737430167595,
              "#bf1cfd"
             ],
             [
              0.5363128491620112,
              "#dd2bfd"
             ],
             [
              0.6256983240223464,
              "#f246fe"
             ],
             [
              0.7150837988826816,
              "#fc67fd"
             ],
             [
              0.8044692737430168,
              "#fe88fc"
             ],
             [
              0.8938547486033519,
              "#fea5fd"
             ],
             [
              0.9832402234636871,
              "#febefe"
             ],
             [
              1,
              "#fec3fe"
             ]
            ],
            "type": "mesh3d"
           }
          ],
          "parcoords": [
           {
            "line": {
             "autocolorscale": false,
             "colorbar": {
              "outlinewidth": 0,
              "ticks": ""
             },
             "colorscale": [
              [
               0,
               "#0508b8"
              ],
              [
               0.0893854748603352,
               "#1910d8"
              ],
              [
               0.1787709497206704,
               "#3c19f0"
              ],
              [
               0.2681564245810056,
               "#6b1cfb"
              ],
              [
               0.3575418994413408,
               "#981cfd"
              ],
              [
               0.44692737430167595,
               "#bf1cfd"
              ],
              [
               0.5363128491620112,
               "#dd2bfd"
              ],
              [
               0.6256983240223464,
               "#f246fe"
              ],
              [
               0.7150837988826816,
               "#fc67fd"
              ],
              [
               0.8044692737430168,
               "#fe88fc"
              ],
              [
               0.8938547486033519,
               "#fea5fd"
              ],
              [
               0.9832402234636871,
               "#febefe"
              ],
              [
               1,
               "#fec3fe"
              ]
             ]
            },
            "type": "parcoords"
           }
          ],
          "scatter": [
           {
            "marker": {
             "line": {
              "color": "#283442"
             }
            },
            "type": "scatter"
           }
          ],
          "scatter3d": [
           {
            "line": {
             "autocolorscale": false,
             "colorscale": [
              [
               0,
               "#0508b8"
              ],
              [
               0.0893854748603352,
               "#1910d8"
              ],
              [
               0.1787709497206704,
               "#3c19f0"
              ],
              [
               0.2681564245810056,
               "#6b1cfb"
              ],
              [
               0.3575418994413408,
               "#981cfd"
              ],
              [
               0.44692737430167595,
               "#bf1cfd"
              ],
              [
               0.5363128491620112,
               "#dd2bfd"
              ],
              [
               0.6256983240223464,
               "#f246fe"
              ],
              [
               0.7150837988826816,
               "#fc67fd"
              ],
              [
               0.8044692737430168,
               "#fe88fc"
              ],
              [
               0.8938547486033519,
               "#fea5fd"
              ],
              [
               0.9832402234636871,
               "#febefe"
              ],
              [
               1,
               "#fec3fe"
              ]
             ]
            },
            "marker": {
             "autocolorscale": false,
             "colorbar": {
              "outlinewidth": 0,
              "ticks": ""
             },
             "colorscale": [
              [
               0,
               "#0508b8"
              ],
              [
               0.0893854748603352,
               "#1910d8"
              ],
              [
               0.1787709497206704,
               "#3c19f0"
              ],
              [
               0.2681564245810056,
               "#6b1cfb"
              ],
              [
               0.3575418994413408,
               "#981cfd"
              ],
              [
               0.44692737430167595,
               "#bf1cfd"
              ],
              [
               0.5363128491620112,
               "#dd2bfd"
              ],
              [
               0.6256983240223464,
               "#f246fe"
              ],
              [
               0.7150837988826816,
               "#fc67fd"
              ],
              [
               0.8044692737430168,
               "#fe88fc"
              ],
              [
               0.8938547486033519,
               "#fea5fd"
              ],
              [
               0.9832402234636871,
               "#febefe"
              ],
              [
               1,
               "#fec3fe"
              ]
             ]
            },
            "type": "scatter3d"
           }
          ],
          "scattercarpet": [
           {
            "marker": {
             "autocolorscale": false,
             "colorbar": {
              "outlinewidth": 0,
              "ticks": ""
             },
             "colorscale": [
              [
               0,
               "#0508b8"
              ],
              [
               0.0893854748603352,
               "#1910d8"
              ],
              [
               0.1787709497206704,
               "#3c19f0"
              ],
              [
               0.2681564245810056,
               "#6b1cfb"
              ],
              [
               0.3575418994413408,
               "#981cfd"
              ],
              [
               0.44692737430167595,
               "#bf1cfd"
              ],
              [
               0.5363128491620112,
               "#dd2bfd"
              ],
              [
               0.6256983240223464,
               "#f246fe"
              ],
              [
               0.7150837988826816,
               "#fc67fd"
              ],
              [
               0.8044692737430168,
               "#fe88fc"
              ],
              [
               0.8938547486033519,
               "#fea5fd"
              ],
              [
               0.9832402234636871,
               "#febefe"
              ],
              [
               1,
               "#fec3fe"
              ]
             ]
            },
            "type": "scattercarpet"
           }
          ],
          "scattergeo": [
           {
            "marker": {
             "autocolorscale": false,
             "colorbar": {
              "outlinewidth": 0,
              "ticks": ""
             },
             "colorscale": [
              [
               0,
               "#0508b8"
              ],
              [
               0.0893854748603352,
               "#1910d8"
              ],
              [
               0.1787709497206704,
               "#3c19f0"
              ],
              [
               0.2681564245810056,
               "#6b1cfb"
              ],
              [
               0.3575418994413408,
               "#981cfd"
              ],
              [
               0.44692737430167595,
               "#bf1cfd"
              ],
              [
               0.5363128491620112,
               "#dd2bfd"
              ],
              [
               0.6256983240223464,
               "#f246fe"
              ],
              [
               0.7150837988826816,
               "#fc67fd"
              ],
              [
               0.8044692737430168,
               "#fe88fc"
              ],
              [
               0.8938547486033519,
               "#fea5fd"
              ],
              [
               0.9832402234636871,
               "#febefe"
              ],
              [
               1,
               "#fec3fe"
              ]
             ]
            },
            "type": "scattergeo"
           }
          ],
          "scattergl": [
           {
            "marker": {
             "line": {
              "color": "#283442"
             }
            },
            "type": "scattergl"
           }
          ],
          "scattermapbox": [
           {
            "marker": {
             "autocolorscale": false,
             "colorbar": {
              "outlinewidth": 0,
              "ticks": ""
             },
             "colorscale": [
              [
               0,
               "#0508b8"
              ],
              [
               0.0893854748603352,
               "#1910d8"
              ],
              [
               0.1787709497206704,
               "#3c19f0"
              ],
              [
               0.2681564245810056,
               "#6b1cfb"
              ],
              [
               0.3575418994413408,
               "#981cfd"
              ],
              [
               0.44692737430167595,
               "#bf1cfd"
              ],
              [
               0.5363128491620112,
               "#dd2bfd"
              ],
              [
               0.6256983240223464,
               "#f246fe"
              ],
              [
               0.7150837988826816,
               "#fc67fd"
              ],
              [
               0.8044692737430168,
               "#fe88fc"
              ],
              [
               0.8938547486033519,
               "#fea5fd"
              ],
              [
               0.9832402234636871,
               "#febefe"
              ],
              [
               1,
               "#fec3fe"
              ]
             ]
            },
            "type": "scattermapbox"
           }
          ],
          "scatterpolar": [
           {
            "marker": {
             "autocolorscale": false,
             "colorbar": {
              "outlinewidth": 0,
              "ticks": ""
             },
             "colorscale": [
              [
               0,
               "#0508b8"
              ],
              [
               0.0893854748603352,
               "#1910d8"
              ],
              [
               0.1787709497206704,
               "#3c19f0"
              ],
              [
               0.2681564245810056,
               "#6b1cfb"
              ],
              [
               0.3575418994413408,
               "#981cfd"
              ],
              [
               0.44692737430167595,
               "#bf1cfd"
              ],
              [
               0.5363128491620112,
               "#dd2bfd"
              ],
              [
               0.6256983240223464,
               "#f246fe"
              ],
              [
               0.7150837988826816,
               "#fc67fd"
              ],
              [
               0.8044692737430168,
               "#fe88fc"
              ],
              [
               0.8938547486033519,
               "#fea5fd"
              ],
              [
               0.9832402234636871,
               "#febefe"
              ],
              [
               1,
               "#fec3fe"
              ]
             ]
            },
            "type": "scatterpolar"
           }
          ],
          "scatterpolargl": [
           {
            "marker": {
             "autocolorscale": false,
             "colorbar": {
              "outlinewidth": 0,
              "ticks": ""
             },
             "colorscale": [
              [
               0,
               "#0508b8"
              ],
              [
               0.0893854748603352,
               "#1910d8"
              ],
              [
               0.1787709497206704,
               "#3c19f0"
              ],
              [
               0.2681564245810056,
               "#6b1cfb"
              ],
              [
               0.3575418994413408,
               "#981cfd"
              ],
              [
               0.44692737430167595,
               "#bf1cfd"
              ],
              [
               0.5363128491620112,
               "#dd2bfd"
              ],
              [
               0.6256983240223464,
               "#f246fe"
              ],
              [
               0.7150837988826816,
               "#fc67fd"
              ],
              [
               0.8044692737430168,
               "#fe88fc"
              ],
              [
               0.8938547486033519,
               "#fea5fd"
              ],
              [
               0.9832402234636871,
               "#febefe"
              ],
              [
               1,
               "#fec3fe"
              ]
             ],
             "line": {
              "autocolorscale": false,
              "colorscale": [
               [
                0,
                "#0508b8"
               ],
               [
                0.0893854748603352,
                "#1910d8"
               ],
               [
                0.1787709497206704,
                "#3c19f0"
               ],
               [
                0.2681564245810056,
                "#6b1cfb"
               ],
               [
                0.3575418994413408,
                "#981cfd"
               ],
               [
                0.44692737430167595,
                "#bf1cfd"
               ],
               [
                0.5363128491620112,
                "#dd2bfd"
               ],
               [
                0.6256983240223464,
                "#f246fe"
               ],
               [
                0.7150837988826816,
                "#fc67fd"
               ],
               [
                0.8044692737430168,
                "#fe88fc"
               ],
               [
                0.8938547486033519,
                "#fea5fd"
               ],
               [
                0.9832402234636871,
                "#febefe"
               ],
               [
                1,
                "#fec3fe"
               ]
              ]
             }
            },
            "type": "scatterpolargl"
           }
          ],
          "scatterternary": [
           {
            "marker": {
             "autocolorscale": false,
             "colorbar": {
              "outlinewidth": 0,
              "ticks": ""
             },
             "colorscale": [
              [
               0,
               "#0508b8"
              ],
              [
               0.0893854748603352,
               "#1910d8"
              ],
              [
               0.1787709497206704,
               "#3c19f0"
              ],
              [
               0.2681564245810056,
               "#6b1cfb"
              ],
              [
               0.3575418994413408,
               "#981cfd"
              ],
              [
               0.44692737430167595,
               "#bf1cfd"
              ],
              [
               0.5363128491620112,
               "#dd2bfd"
              ],
              [
               0.6256983240223464,
               "#f246fe"
              ],
              [
               0.7150837988826816,
               "#fc67fd"
              ],
              [
               0.8044692737430168,
               "#fe88fc"
              ],
              [
               0.8938547486033519,
               "#fea5fd"
              ],
              [
               0.9832402234636871,
               "#febefe"
              ],
              [
               1,
               "#fec3fe"
              ]
             ]
            },
            "type": "scatterternary"
           }
          ],
          "surface": [
           {
            "autocolorscale": false,
            "colorbar": {
             "outlinewidth": 0,
             "ticks": ""
            },
            "colorscale": [
             [
              0,
              "#0508b8"
             ],
             [
              0.0893854748603352,
              "#1910d8"
             ],
             [
              0.1787709497206704,
              "#3c19f0"
             ],
             [
              0.2681564245810056,
              "#6b1cfb"
             ],
             [
              0.3575418994413408,
              "#981cfd"
             ],
             [
              0.44692737430167595,
              "#bf1cfd"
             ],
             [
              0.5363128491620112,
              "#dd2bfd"
             ],
             [
              0.6256983240223464,
              "#f246fe"
             ],
             [
              0.7150837988826816,
              "#fc67fd"
             ],
             [
              0.8044692737430168,
              "#fe88fc"
             ],
             [
              0.8938547486033519,
              "#fea5fd"
             ],
             [
              0.9832402234636871,
              "#febefe"
             ],
             [
              1,
              "#fec3fe"
             ]
            ],
            "type": "surface"
           }
          ],
          "table": [
           {
            "cells": {
             "fill": {
              "color": "#506784"
             },
             "line": {
              "color": "rgb(17,17,17)"
             }
            },
            "header": {
             "fill": {
              "color": "#2a3f5f"
             },
             "line": {
              "color": "rgb(17,17,17)"
             }
            },
            "type": "table"
           }
          ]
         },
         "layout": {
          "annotationdefaults": {
           "arrowcolor": "#f2f5fa",
           "arrowhead": 0,
           "arrowwidth": 1
          },
          "colorway": [
           "#636efa",
           "#EF553B",
           "#00cc96",
           "#ab63fa",
           "#19d3f3",
           "#e763fa"
          ],
          "font": {
           "color": "#f2f5fa"
          },
          "geo": {
           "bgcolor": "rgb(17,17,17)",
           "lakecolor": "rgb(17,17,17)",
           "landcolor": "rgb(17,17,17)",
           "showlakes": true,
           "showland": true,
           "subunitcolor": "#506784"
          },
          "paper_bgcolor": "rgb(17,17,17)",
          "plot_bgcolor": "rgb(17,17,17)",
          "polar": {
           "angularaxis": {
            "gridcolor": "#506784",
            "linecolor": "#506784",
            "ticks": ""
           },
           "bgcolor": "rgb(17,17,17)",
           "radialaxis": {
            "gridcolor": "#506784",
            "linecolor": "#506784",
            "ticks": ""
           }
          },
          "scene": {
           "xaxis": {
            "backgroundcolor": "rgb(17,17,17)",
            "gridcolor": "#506784",
            "gridwidth": 2,
            "linecolor": "#506784",
            "showbackground": true,
            "ticks": "",
            "zerolinecolor": "#C8D4E3"
           },
           "yaxis": {
            "backgroundcolor": "rgb(17,17,17)",
            "gridcolor": "#506784",
            "gridwidth": 2,
            "linecolor": "#506784",
            "showbackground": true,
            "ticks": "",
            "zerolinecolor": "#C8D4E3"
           },
           "zaxis": {
            "backgroundcolor": "rgb(17,17,17)",
            "gridcolor": "#506784",
            "gridwidth": 2,
            "linecolor": "#506784",
            "showbackground": true,
            "ticks": "",
            "zerolinecolor": "#C8D4E3"
           }
          },
          "shapedefaults": {
           "fillcolor": "#f2f5fa",
           "line": {
            "width": 0
           },
           "opacity": 0.4
          },
          "sliderdefaults": {
           "bgcolor": "#C8D4E3",
           "bordercolor": "rgb(17,17,17)",
           "borderwidth": 1,
           "tickwidth": 0
          },
          "ternary": {
           "aaxis": {
            "gridcolor": "#506784",
            "linecolor": "#506784",
            "ticks": ""
           },
           "baxis": {
            "gridcolor": "#506784",
            "linecolor": "#506784",
            "ticks": ""
           },
           "bgcolor": "rgb(17,17,17)",
           "caxis": {
            "gridcolor": "#506784",
            "linecolor": "#506784",
            "ticks": ""
           }
          },
          "updatemenudefaults": {
           "bgcolor": "#506784",
           "borderwidth": 0
          },
          "xaxis": {
           "gridcolor": "#283442",
           "linecolor": "#506784",
           "ticks": "",
           "zerolinecolor": "#283442",
           "zerolinewidth": 2
          },
          "yaxis": {
           "gridcolor": "#283442",
           "linecolor": "#506784",
           "ticks": "",
           "zerolinecolor": "#283442",
           "zerolinewidth": 2
          }
         }
        },
        "title": "Read times and file sizes for 10000000 rows",
        "xaxis": {
         "hoverformat": ".1f",
         "range": [
          0,
          1.5
         ],
         "title": "read time / s",
         "type": "linear"
        },
        "yaxis": {
         "autorange": true,
         "hoverformat": ".1f",
         "range": [
          469.99213286721783,
          622.2419560304872
         ],
         "title": "size / MB",
         "type": "linear"
        }
       }
      },
      "image/png": "[encoded data removed]"
     },
     "metadata": {},
     "output_type": "display_data"
    }
   ],
   "source": [
    "data = [\n",
    "    go.Scatter(\n",
    "        x=[result['read_s']],\n",
    "        y=[result['size_MB']],\n",
    "        text=[result['format']],\n",
    "        name=result['format'],\n",
    "        mode='markers',\n",
    "        hoverinfo='text+x+y'\n",
    "    ) for _, result in results.iterrows()\n",
    "]\n",
    "\n",
    "layout = go.Layout(\n",
    "    title=f'Read times and file sizes for {len(test_df)} rows',\n",
    "    xaxis = dict(\n",
    "        title='read time / s',\n",
    "        hoverformat='.1f',\n",
    "        range=[0, 1.5]\n",
    "    ),\n",
    "    yaxis = dict(\n",
    "        title='size / MB',\n",
    "        hoverformat='.1f'\n",
    "    ),\n",
    "    hovermode='closest',\n",
    "    template='plotly_dark'\n",
    ")\n",
    "\n",
    "fig = go.Figure(data=data, layout=layout)\n",
    "\n",
    "py.iplot(fig)"
   ]
  },
  {
   "cell_type": "code",
   "execution_count": 51,
   "metadata": {},
   "outputs": [],
   "source": [
    "plotly.io.write_json(fig, 'large_read_size.json')"
   ]
  },
  {
   "cell_type": "code",
   "execution_count": null,
   "metadata": {},
   "outputs": [],
   "source": []
  }
 ],
 "metadata": {
  "kernelspec": {
   "display_name": "Python 3",
   "language": "python",
   "name": "python3"
  },
  "language_info": {
   "codemirror_mode": {
    "name": "ipython",
    "version": 3
   },
   "file_extension": ".py",
   "mimetype": "text/x-python",
   "name": "python",
   "nbconvert_exporter": "python",
   "pygments_lexer": "ipython3",
   "version": "3.6.4"
  }
 },
 "nbformat": 4,
 "nbformat_minor": 2
}
